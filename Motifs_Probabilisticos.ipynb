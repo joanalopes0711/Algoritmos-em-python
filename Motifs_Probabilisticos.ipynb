{
 "cells": [
  {
   "cell_type": "markdown",
   "id": "d4b12237",
   "metadata": {},
   "source": [
    "# MOTIFS"
   ]
  },
  {
   "cell_type": "markdown",
   "id": "3c951910",
   "metadata": {},
   "source": [
    "## Motifs Probabilísticos "
   ]
  },
  {
   "cell_type": "markdown",
   "id": "84e1d8a8",
   "metadata": {},
   "source": [
    "Motifs probabilísticos são padrões em sequências biológicas, como DNA ou proteínas, modelados com base em probabilidades. Eles representam a probabilidade de ocorrência de diferentes nucleotídeos ou aminoácidos em cada posição de um padrão. Estes são geralmente expressos por meio de PWM (Matriz de Probabilidade Ponderada) ou por PSSM (Matriz de Pontuação de Posição Específica). Os motifs proporcionam uma representação mais realista da variabilidade biológica.\n",
    "\n",
    "Na área de bioinformática, esses motifs podem representar padrões de nucleótidos em sequências de DNA, sendo úteis para identificar regiões conservadas nesses ácidos nucleicos. Revelando-se como ferramentas indispensaveis para compreender a regulação genética e identificar características fundamentais em estudos genômicos."
   ]
  },
  {
   "cell_type": "markdown",
   "id": "119207b4",
   "metadata": {},
   "source": [
    "### PWM (Position Weight Matrix)"
   ]
  },
  {
   "cell_type": "code",
   "execution_count": 1,
   "id": "cbc2f43f",
   "metadata": {},
   "outputs": [],
   "source": [
    "def pwm(seqs: list[str], pseudo: float = 0) -> list[dict[str, float]]:\n",
    "    \"\"\"\n",
    "    Calcula a matriz PWM (Matriz de Peso e Posição) para um conjunto de sequências\n",
    "\n",
    "    Parâmetros:\n",
    "    \n",
    "    seqs : list[str]\n",
    "        Recebe uma lista de strings que representam as sequências\n",
    "\n",
    "    pseudo : float\n",
    "        Recebe um valor opcional, pseudo, que em caso de omissão é = 0\n",
    "\n",
    "    Retorna:\n",
    "    \n",
    "    pwm_matrix : list[dict[str, float]]\n",
    "        Retorna uma *lista de dicionários*, onde cada *dicionário* terá uma chave no formato de *string*\n",
    "        e um valor no formato de *float*\n",
    "\n",
    "    Levanta:\n",
    "    AssertError\n",
    "        Caso a lista tenha sequências inválidas\n",
    "    \"\"\"\n",
    "\n",
    "    # Valida cada caractere em cada posição das sequências\n",
    "    for seq in seqs:\n",
    "        for b in seq:\n",
    "            assert b.isalpha(), f'Caracter {b} na sequência {seq} não é uma letra!'\n",
    "\n",
    "    # Calcula a matriz PWM\n",
    "    pwm_matrix = [{b: (sum(1 for seq in seqs if seq[i] == b) + pseudo) / (len(seqs) + pseudo * len(set(''.join(seqs))))\n",
    "                   for b in set(''.join(seqs))}\n",
    "                  for i in range(len(seqs[0]))]\n",
    "\n",
    "    # Retorna a matriz PWM\n",
    "    return pwm_matrix"
   ]
  },
  {
   "cell_type": "markdown",
   "id": "bfe93a7d",
   "metadata": {},
   "source": [
    "Exemplo:"
   ]
  },
  {
   "cell_type": "code",
   "execution_count": 2,
   "id": "9d0c8a69",
   "metadata": {},
   "outputs": [
    {
     "name": "stdout",
     "output_type": "stream",
     "text": [
      "Requirement already satisfied: tabulate in c:\\users\\tiago\\anaconda3\\2\\lib\\site-packages (0.8.10)\n",
      "Note: you may need to restart the kernel to use updated packages.\n"
     ]
    }
   ],
   "source": [
    "pip install tabulate"
   ]
  },
  {
   "cell_type": "code",
   "execution_count": 14,
   "id": "19ae0dcd",
   "metadata": {},
   "outputs": [
    {
     "name": "stdout",
     "output_type": "stream",
     "text": [
      "Base      Posição 1    Posição 2    Posição 3    Posição 4\n",
      "------  -----------  -----------  -----------  -----------\n",
      "C             0.125        0.25         0.25         0.375\n",
      "A             0.625        0.125        0.125        0.125\n",
      "T             0.125        0.5          0.5          0.125\n",
      "G             0.125        0.125        0.125        0.375\n"
     ]
    }
   ],
   "source": [
    "# Sequências de DNA fornecidas para a função pwm\n",
    "seqs = ['ATTG', 'ATCG', 'ATTC', 'ACTC']\n",
    "\n",
    "# Chamada da função pwm com as sequências e o valor pseudo\n",
    "resultado = pwm(seqs, pseudo=1)\n",
    "\n",
    "# Impressão da matriz formatada com o módulo tabulate\n",
    "from tabulate import tabulate\n",
    "\n",
    "# Cabeçalhos para a tabela, incluindo \"Base\" e as posições numeradas\n",
    "headers = [\"Base\"] + [f\"Posição {i+1}\" for i in range(len(seqs[0]))]\n",
    "\n",
    "# Construção da tabela usando uma compreensão de lista \n",
    "table = [[base] + [round(resultado[i][base], 3) for i in range(len(resultado))] for base in set(''.join(seqs))]\n",
    "\n",
    "# Impressão da tabela usando a função tabulate\n",
    "print(tabulate(table, headers))"
   ]
  },
  {
   "cell_type": "markdown",
   "id": "e4fffa80",
   "metadata": {},
   "source": [
    "Testes:"
   ]
  },
  {
   "cell_type": "code",
   "execution_count": 4,
   "id": "d55f91c1",
   "metadata": {},
   "outputs": [
    {
     "name": "stderr",
     "output_type": "stream",
     "text": [
      "E..\n",
      "======================================================================\n",
      "ERROR: test_empty_sequence (__main__.TestPWM.test_empty_sequence)\n",
      "----------------------------------------------------------------------\n",
      "Traceback (most recent call last):\n",
      "  File \"C:\\Users\\tiago\\AppData\\Local\\Temp\\ipykernel_2872\\277277751.py\", line 21, in test_empty_sequence\n",
      "    pwm(seqs, pseudo)\n",
      "  File \"C:\\Users\\tiago\\AppData\\Local\\Temp\\ipykernel_2872\\2954685278.py\", line 30, in pwm\n",
      "    pwm_matrix = [{b: (sum(1 for seq in seqs if seq[i] == b) + pseudo) / (len(seqs) + pseudo * len(set(''.join(seqs))))\n",
      "                 ^^^^^^^^^^^^^^^^^^^^^^^^^^^^^^^^^^^^^^^^^^^^^^^^^^^^^^^^^^^^^^^^^^^^^^^^^^^^^^^^^^^^^^^^^^^^^^^^^^^^^^\n",
      "  File \"C:\\Users\\tiago\\AppData\\Local\\Temp\\ipykernel_2872\\2954685278.py\", line 30, in <listcomp>\n",
      "    pwm_matrix = [{b: (sum(1 for seq in seqs if seq[i] == b) + pseudo) / (len(seqs) + pseudo * len(set(''.join(seqs))))\n",
      "                  ^^^^^^^^^^^^^^^^^^^^^^^^^^^^^^^^^^^^^^^^^^^^^^^^^^^^^^^^^^^^^^^^^^^^^^^^^^^^^^^^^^^^^^^^^^^^^^^^^^^^^\n",
      "  File \"C:\\Users\\tiago\\AppData\\Local\\Temp\\ipykernel_2872\\2954685278.py\", line 30, in <dictcomp>\n",
      "    pwm_matrix = [{b: (sum(1 for seq in seqs if seq[i] == b) + pseudo) / (len(seqs) + pseudo * len(set(''.join(seqs))))\n",
      "                       ^^^^^^^^^^^^^^^^^^^^^^^^^^^^^^^^^^^^^\n",
      "  File \"C:\\Users\\tiago\\AppData\\Local\\Temp\\ipykernel_2872\\2954685278.py\", line 30, in <genexpr>\n",
      "    pwm_matrix = [{b: (sum(1 for seq in seqs if seq[i] == b) + pseudo) / (len(seqs) + pseudo * len(set(''.join(seqs))))\n",
      "                                                ~~~^^^\n",
      "IndexError: string index out of range\n",
      "\n",
      "----------------------------------------------------------------------\n",
      "Ran 3 tests in 0.002s\n",
      "\n",
      "FAILED (errors=1)\n"
     ]
    }
   ],
   "source": [
    "import unittest\n",
    "\n",
    "class TestPWM(unittest.TestCase):\n",
    "\n",
    "    def test_valid_sequences(self):\n",
    "        seqs = ['ATTG', 'ATCG', 'ATTC', 'ACTC']\n",
    "        pseudo = 1\n",
    "        result = pwm(seqs, pseudo)\n",
    "        expected_result = [\n",
    "            {'A': 0.625, 'C': 0.125, 'G': 0.125, 'T': 0.125},\n",
    "            {'A': 0.125, 'C': 0.25, 'G': 0.125, 'T': 0.5},\n",
    "            {'A': 0.125, 'C': 0.25, 'G': 0.125, 'T': 0.5},\n",
    "            {'A': 0.125, 'C': 0.375, 'G': 0.375, 'T': 0.125}\n",
    "        ]\n",
    "        self.assertEqual(result, expected_result)\n",
    "\n",
    "    def test_empty_sequence(self):\n",
    "        seqs = ['ATTG', 'ATCG', '', 'ACTC']  # Sequencia vazia\n",
    "        pseudo = 1\n",
    "        with self.assertRaises(AssertionError):\n",
    "            pwm(seqs, pseudo)\n",
    "\n",
    "    \n",
    "    def test_special_characters(self):\n",
    "        with self.assertRaises(AssertionError):\n",
    "            pwm(['ATTG', 'ATCG', 'ATTC', 'ACT$'], pseudo=1)  # Sequencia invalida para carateres especiais\n",
    "            \n",
    "    \n",
    "# Executar os testes\n",
    "result = unittest.TextTestRunner().run(unittest.TestLoader().loadTestsFromTestCase(TestPWM))\n",
    "\n",
    "# Verificar que falhas houveram nos testes\n",
    "if not result.wasSuccessful():\n",
    "    for failure in result.failures:\n",
    "        print(failure)"
   ]
  },
  {
   "cell_type": "markdown",
   "id": "694ec6f2",
   "metadata": {},
   "source": [
    "### PSSM (Position-Specific Scoring Matrix)"
   ]
  },
  {
   "cell_type": "code",
   "execution_count": 5,
   "id": "e42a5164",
   "metadata": {},
   "outputs": [],
   "source": [
    "def pssm(seqs, pseudo=1):\n",
    "    \"\"\"\n",
    "    Calcula a Matriz de Pontuação de Posição Específica (PSSM) para um conjunto de sequências\n",
    "\n",
    "    Parâmetros:\n",
    "    seqs : list[str]\n",
    "        Lista de sequências\n",
    "\n",
    "    pseudo : float\n",
    "        Valor de pseudocontagens a ser adicionado para evitar problemas com probabilidades zero.\n",
    "\n",
    "    Retorna:\n",
    "    lista : list[dict[str, float]]\n",
    "        Uma lista de dicionários que representa a PSSM\n",
    "    \"\"\"\n",
    "    import math\n",
    "    # Lista para armazenar os dicionários representando a PSSM\n",
    "    lista = []\n",
    "    bases = set(''.join(seqs))\n",
    "\n",
    "    # Itera sobre as posições correspondentes em todas as sequências\n",
    "    for pos in list(zip(*seqs)):\n",
    "        # Dicionário para armazenar as pontuações para cada base na posição atual\n",
    "        dicionario = {}\n",
    "        \n",
    "        # Calcula a pontuação para cada base usando a fórmula da PSSM\n",
    "        for b in bases:\n",
    "            # Fórmula da PSSM: log2((contagem da base + pseudocontagens) / (total de sequências + total de bases * pseudocontagens)) / 0.25\n",
    "            dicionario[b] = round(math.log2((pos.count(b) + pseudo) / (len(seqs) + len(bases) * pseudo)) / 0.25, 2)\n",
    "\n",
    "        # Adiciona o dicionário à lista\n",
    "        lista.append(dicionario)\n",
    "\n",
    "    # Retorna a lista de dicionários representando a PSSM\n",
    "    return lista"
   ]
  },
  {
   "cell_type": "markdown",
   "id": "b5561d80",
   "metadata": {},
   "source": [
    "Exemplo:"
   ]
  },
  {
   "cell_type": "code",
   "execution_count": 6,
   "id": "7db2ffe5",
   "metadata": {},
   "outputs": [
    {
     "name": "stdout",
     "output_type": "stream",
     "text": [
      "Base      Posição 1    Posição 2    Posição 3    Posição 4\n",
      "------  -----------  -----------  -----------  -----------\n",
      "C            -11              -7           -7        -4.66\n",
      "A             -1.71          -11          -11       -11\n",
      "T            -11              -3           -3       -11\n",
      "G            -11             -11          -11        -4.66\n"
     ]
    }
   ],
   "source": [
    "# Sequências de DNA fornecidas para a função pssm\n",
    "seqs = ['ATTG', 'ATCG', 'ATTC', 'ACTC']\n",
    "\n",
    "# Calcula a matriz PSSM com pseudocontagem igual a 1\n",
    "matriz_pssm = pssm(seqs, pseudo=1)\n",
    "\n",
    "# Cabeçalhos para a tabela, incluindo \"Base\" e as posições numeradas\n",
    "headers = [\"Base\"] + [f\"Posição {i+1}\" for i in range(len(seqs[0]))]\n",
    "\n",
    "# Construção da tabela usando uma compreensão de lista \n",
    "table = [[base] + [round(matriz_pssm[i][base] + 1, 3) for i in range(len(matriz_pssm))] for base in set(''.join(seqs))]\n",
    "\n",
    "# Impressão da tabela usando a função tabulate\n",
    "print(tabulate(table, headers))\n"
   ]
  },
  {
   "cell_type": "markdown",
   "id": "5cb474b6",
   "metadata": {},
   "source": [
    "Testes:"
   ]
  },
  {
   "cell_type": "code",
   "execution_count": 7,
   "id": "e0c32d64",
   "metadata": {},
   "outputs": [
    {
     "name": "stderr",
     "output_type": "stream",
     "text": [
      ".F.\n",
      "======================================================================\n",
      "FAIL: test_pssm_dif_zero (__main__.TestPSSM.test_pssm_dif_zero)\n",
      "----------------------------------------------------------------------\n",
      "Traceback (most recent call last):\n",
      "  File \"C:\\Users\\tiago\\AppData\\Local\\Temp\\ipykernel_2872\\3182518252.py\", line 16, in test_pssm_dif_zero\n",
      "    self.assertEqual(pssm(['AT','AG'], pseudo=1), [{'A': -4.0, 'T': -10.34, 'C': -10.34, 'G': -10.34}, {'A': -10.34, 'T': -6.34, 'C': -10.34, 'G': -6.34}])\n",
      "AssertionError: Lists differ: [{'A': -2.95, 'T': -9.29, 'G': -9.29}, {'A': -9.2[22 chars].29}] != [{'A': -4.0, 'T': -10.34, 'C': -10.34, 'G': -10.3[50 chars].34}]\n",
      "\n",
      "First differing element 0:\n",
      "{'A': -2.95, 'T': -9.29, 'G': -9.29}\n",
      "{'A': -4.0, 'T': -10.34, 'C': -10.34, 'G': -10.34}\n",
      "\n",
      "- [{'A': -2.95, 'G': -9.29, 'T': -9.29}, {'A': -9.29, 'G': -5.29, 'T': -5.29}]\n",
      "+ [{'A': -4.0, 'C': -10.34, 'G': -10.34, 'T': -10.34},\n",
      "+  {'A': -10.34, 'C': -10.34, 'G': -6.34, 'T': -6.34}]\n",
      "\n",
      "----------------------------------------------------------------------\n",
      "Ran 3 tests in 0.005s\n",
      "\n",
      "FAILED (failures=1)\n"
     ]
    },
    {
     "name": "stdout",
     "output_type": "stream",
     "text": [
      "(<__main__.TestPSSM testMethod=test_pssm_dif_zero>, 'Traceback (most recent call last):\\n  File \"C:\\\\Users\\\\tiago\\\\AppData\\\\Local\\\\Temp\\\\ipykernel_2872\\\\3182518252.py\", line 16, in test_pssm_dif_zero\\n    self.assertEqual(pssm([\\'AT\\',\\'AG\\'], pseudo=1), [{\\'A\\': -4.0, \\'T\\': -10.34, \\'C\\': -10.34, \\'G\\': -10.34}, {\\'A\\': -10.34, \\'T\\': -6.34, \\'C\\': -10.34, \\'G\\': -6.34}])\\nAssertionError: Lists differ: [{\\'A\\': -2.95, \\'T\\': -9.29, \\'G\\': -9.29}, {\\'A\\': -9.2[22 chars].29}] != [{\\'A\\': -4.0, \\'T\\': -10.34, \\'C\\': -10.34, \\'G\\': -10.3[50 chars].34}]\\n\\nFirst differing element 0:\\n{\\'A\\': -2.95, \\'T\\': -9.29, \\'G\\': -9.29}\\n{\\'A\\': -4.0, \\'T\\': -10.34, \\'C\\': -10.34, \\'G\\': -10.34}\\n\\n- [{\\'A\\': -2.95, \\'G\\': -9.29, \\'T\\': -9.29}, {\\'A\\': -9.29, \\'G\\': -5.29, \\'T\\': -5.29}]\\n+ [{\\'A\\': -4.0, \\'C\\': -10.34, \\'G\\': -10.34, \\'T\\': -10.34},\\n+  {\\'A\\': -10.34, \\'C\\': -10.34, \\'G\\': -6.34, \\'T\\': -6.34}]\\n')\n"
     ]
    }
   ],
   "source": [
    "import unittest\n",
    "\n",
    "class TestPSSM(unittest.TestCase):\n",
    "\n",
    "    def test_pssm(self):\n",
    "        # Teste para sequências vazias\n",
    "        self.assertEqual(pssm([]), [])\n",
    "\n",
    "    def test_pssm_pseud_zero(self):\n",
    "        # Teste para pseudocontagem de zero\n",
    "        with self.assertRaises(ValueError):\n",
    "            pssm(['CTA'], pseudo=0)\n",
    "\n",
    "    def test_pssm_dif_zero(self):\n",
    "        # Teste para pseudocontagens diferentes de zero\n",
    "        self.assertEqual(pssm(['AT','AG'], pseudo=1), [{'A': -4.0, 'T': -10.34, 'C': -10.34, 'G': -10.34}, {'A': -10.34, 'T': -6.34, 'C': -10.34, 'G': -6.34}])\n",
    "                         \n",
    "# Executar os testes\n",
    "result = unittest.TextTestRunner().run(unittest.TestLoader().loadTestsFromTestCase(TestPSSM))\n",
    "\n",
    "# Verificar que falhas houveram nos testes\n",
    "if not result.wasSuccessful():\n",
    "    for failure in result.failures:\n",
    "        print(failure)"
   ]
  },
  {
   "cell_type": "markdown",
   "id": "19e40add",
   "metadata": {},
   "source": [
    "### Probabilidade de uma sequência"
   ]
  },
  {
   "cell_type": "code",
   "execution_count": 8,
   "id": "a911441c",
   "metadata": {},
   "outputs": [],
   "source": [
    "def prob_seq(sequence, resultado):\n",
    "    \"\"\"\n",
    "    Calcula a probabilidade de uma sequência utilizando como base na função de PWM\n",
    "\n",
    "    Parâmetros:\n",
    "    sequence : str \n",
    "        Sequência de DNA \n",
    "\n",
    "    resultado : list[dict[str, float]] \n",
    "        Variável que contém o resultado da função PWM, onde cada dicionário representa as probabilidades para cada \n",
    "        base numa posição\n",
    "\n",
    "    Retorna:\n",
    "    probabilidade : float \n",
    "        A probabilidade da sequência com base na PWM\n",
    "\n",
    "    \"\"\"    \n",
    "    probabilidade = 1.0  # Inicializa a probabilidade como 1.0\n",
    "\n",
    "    # Itera sobre cada posição e base na sequência\n",
    "    for position, base in enumerate(sequence):\n",
    "        # Verifica se a base está presente no resultado da PWM para essa posição\n",
    "        if base in resultado[position]:\n",
    "            # Multiplica a probabilidade acumulada pelo valor da PWM para a base nessa posição\n",
    "            probabilidade *= resultado[position][base]\n",
    "        else:\n",
    "            # Se a base não estiver presente, atribui uma probabilidade mínima de 0.01\n",
    "            probabilidade *= 0.01\n",
    "\n",
    "    return probabilidade"
   ]
  },
  {
   "cell_type": "markdown",
   "id": "d6d9573d",
   "metadata": {},
   "source": [
    "Exemplo:"
   ]
  },
  {
   "cell_type": "code",
   "execution_count": 15,
   "id": "3ab50279",
   "metadata": {},
   "outputs": [
    {
     "name": "stdout",
     "output_type": "stream",
     "text": [
      "A probabilidade da sequência 'ATAA' é de: \n",
      "0.0048828125\n"
     ]
    }
   ],
   "source": [
    "seq = 'ATAA'\n",
    "probabilidade = prob_seq(seq, resultado)\n",
    "\n",
    "print(f\"A probabilidade da sequência '{seq}' é de: \\n{probabilidade}\")"
   ]
  },
  {
   "cell_type": "markdown",
   "id": "f92f7dbe",
   "metadata": {},
   "source": [
    "Testes:"
   ]
  },
  {
   "cell_type": "code",
   "execution_count": 10,
   "id": "c01301d3",
   "metadata": {},
   "outputs": [
    {
     "name": "stderr",
     "output_type": "stream",
     "text": [
      "F\n",
      "======================================================================\n",
      "FAIL: test_prob_seq (__main__.Test_prob_seq.test_prob_seq)\n",
      "----------------------------------------------------------------------\n",
      "Traceback (most recent call last):\n",
      "  File \"C:\\Users\\tiago\\AppData\\Local\\Temp\\ipykernel_2872\\930531534.py\", line 12, in test_prob_seq\n",
      "    self.assertEqual(prob_seq(\"ATAA\",pwm(seqs, pseudo= 0)), 0.0048828125)\n",
      "AssertionError: 0.0 != 0.0048828125\n",
      "\n",
      "----------------------------------------------------------------------\n",
      "Ran 1 test in 0.001s\n",
      "\n",
      "FAILED (failures=1)\n"
     ]
    },
    {
     "name": "stdout",
     "output_type": "stream",
     "text": [
      "(<__main__.Test_prob_seq testMethod=test_prob_seq>, 'Traceback (most recent call last):\\n  File \"C:\\\\Users\\\\tiago\\\\AppData\\\\Local\\\\Temp\\\\ipykernel_2872\\\\930531534.py\", line 12, in test_prob_seq\\n    self.assertEqual(prob_seq(\"ATAA\",pwm(seqs, pseudo= 0)), 0.0048828125)\\nAssertionError: 0.0 != 0.0048828125\\n')\n"
     ]
    }
   ],
   "source": [
    "import unittest  \n",
    "\n",
    "class Test_prob_seq (unittest.TestCase):\n",
    "\n",
    "    seqs = ['ATTG','ATCG','ATTC','ACTC']\n",
    "\n",
    "\n",
    "    def test_prob_seq (self):\n",
    "        self.assertEqual(prob_seq(\"ATTG\",pwm(seqs, pseudo= 0)), 0.2845)\n",
    "\n",
    "    def test_prob_seq (self):\n",
    "        self.assertEqual(prob_seq(\"ATAA\",pwm(seqs, pseudo= 0)), 0.0048828125)\n",
    "\n",
    "\n",
    "# Executar os testes\n",
    "result = unittest.TextTestRunner().run(unittest.TestLoader().loadTestsFromTestCase(Test_prob_seq))\n",
    "\n",
    "# Verificar que falhas houveram nos testes\n",
    "if not result.wasSuccessful():\n",
    "    for failure in result.failures:\n",
    "        print(failure)"
   ]
  },
  {
   "cell_type": "markdown",
   "id": "de9f60df",
   "metadata": {},
   "source": [
    "### Sequencia mais provável"
   ]
  },
  {
   "cell_type": "code",
   "execution_count": 11,
   "id": "ceec8555",
   "metadata": {},
   "outputs": [],
   "source": [
    "def seq_mais_prob(seqs, pseudo=0):\n",
    "    \"\"\"\n",
    "    Função que permite devolver a sequência mais provável de ocorrer\n",
    "\n",
    "    Parâmetros:\n",
    "        seqs (list): Lista de sequências \n",
    "        pseudo_count (int, optional): Pseudocontagem. Defaults to 0.\n",
    "\n",
    "    Retorna:\n",
    "        str: Sequência mais provável de ocorrer\n",
    "    \"\"\"\n",
    "    \n",
    "    # Número total de letras (bases) no DNA\n",
    "    num_letters = 4  # Assumindo que estamos a trabalhar com DNA (A, C, G, T)\n",
    "    \n",
    "    # Número de sequências fornecidas\n",
    "    num_seqs = len(seqs)\n",
    "    \n",
    "    # Comprimento das sequências (assumindo que todas têm o mesmo comprimento)\n",
    "    len_seqs = len(seqs[0])\n",
    "\n",
    "    # Inicializa a matriz para armazenar contagens de frequência\n",
    "    mat = [[0] * (len_seqs + 1) for _ in range(num_letters + 1)]\n",
    "    resul = \"\"\n",
    "\n",
    "    # Atualiza a matriz com contagens de frequência e aplica pseudocontagens\n",
    "    for seq in seqs:\n",
    "        for coluna in range(len_seqs):\n",
    "            # Obtém a linha correspondente à base na sequência\n",
    "            linha = \"ACGT\".index(seq[coluna])\n",
    "            # Incrementa a contagem na célula correspondente\n",
    "            mat[linha + 1][coluna + 1] += 1\n",
    "            # Atualiza os rótulos nas linhas e colunas\n",
    "            mat[0][coluna + 1] = f\"  {coluna + 1} \"\n",
    "            mat[0][0] = \".\"\n",
    "            mat[linha + 1][0] = \"ACGT\"[linha]\n",
    "\n",
    "    # Normaliza as frequências para probabilidades\n",
    "    for linha in range(1, num_letters + 1):\n",
    "        for coluna in range(1, num_seqs + 1):\n",
    "            # Aplica pseudocontagens e normaliza as frequências\n",
    "            mat[linha][coluna] = round(float(mat[linha][coluna] + pseudo + 0.01) / float(num_seqs), 3)\n",
    "\n",
    "    list_temp = []\n",
    "    list_final = []\n",
    "\n",
    "    # Encontra a posição mais provável para cada coluna\n",
    "    for coluna in range(1, num_seqs + 1):\n",
    "        for linha in range(1, num_letters + 1):\n",
    "            # Adiciona as probabilidades e as linhas correspondentes numa lista temporária\n",
    "            list_temp.append((mat[linha][coluna], linha))\n",
    "        # Encontra a linha com a maior probabilidade e adiciona à lista final\n",
    "        list_final.append(max(list_temp))\n",
    "        list_temp = []\n",
    "\n",
    "    # Constrói a sequência mais provável\n",
    "    for c in list_final:\n",
    "        for linha in range(1, len_seqs + 1):\n",
    "            # Adiciona a base correspondente à linha mais provável à sequência resultante\n",
    "            if linha == c[1]:\n",
    "                resul += mat[linha][0]\n",
    "\n",
    "    return resul"
   ]
  },
  {
   "cell_type": "code",
   "execution_count": 12,
   "id": "858bb8ca",
   "metadata": {},
   "outputs": [
    {
     "data": {
      "text/plain": [
       "'ATTG'"
      ]
     },
     "execution_count": 12,
     "metadata": {},
     "output_type": "execute_result"
    }
   ],
   "source": [
    "seq_mais_prob(seqs,pseudo=0)"
   ]
  },
  {
   "cell_type": "code",
   "execution_count": 13,
   "id": "c3b19faa",
   "metadata": {},
   "outputs": [
    {
     "name": "stderr",
     "output_type": "stream",
     "text": [
      "EEE\n",
      "======================================================================\n",
      "ERROR: test_seq_vazio (__main__.Test_seq_provavel.test_seq_vazio)\n",
      "----------------------------------------------------------------------\n",
      "Traceback (most recent call last):\n",
      "  File \"C:\\Users\\tiago\\AppData\\Local\\Temp\\ipykernel_2872\\316962021.py\", line 14, in test_seq_vazio\n",
      "    seq_provavel([\"\", \"ATC\"],pwm(['AAA','TTT']))\n",
      "    ^^^^^^^^^^^^\n",
      "NameError: name 'seq_provavel' is not defined\n",
      "\n",
      "======================================================================\n",
      "ERROR: teste_1 (__main__.Test_seq_provavel.teste_1)\n",
      "----------------------------------------------------------------------\n",
      "Traceback (most recent call last):\n",
      "  File \"C:\\Users\\tiago\\AppData\\Local\\Temp\\ipykernel_2872\\316962021.py\", line 6, in teste_1\n",
      "    self.assertEqual(seq_provavel('TAAA',pwm(['AAAA','AATA'])), 'TAAA')\n",
      "                     ^^^^^^^^^^^^\n",
      "NameError: name 'seq_provavel' is not defined\n",
      "\n",
      "======================================================================\n",
      "ERROR: teste_seq_invalid (__main__.Test_seq_provavel.teste_seq_invalid)\n",
      "----------------------------------------------------------------------\n",
      "Traceback (most recent call last):\n",
      "  File \"C:\\Users\\tiago\\AppData\\Local\\Temp\\ipykernel_2872\\316962021.py\", line 10, in teste_seq_invalid\n",
      "    seq_provavel([\"AAT\", ],pwm(['AAA','TTT']))\n",
      "    ^^^^^^^^^^^^\n",
      "NameError: name 'seq_provavel' is not defined\n",
      "\n",
      "----------------------------------------------------------------------\n",
      "Ran 3 tests in 0.003s\n",
      "\n",
      "FAILED (errors=3)\n"
     ]
    }
   ],
   "source": [
    "import unittest\n",
    "\n",
    "class Test_seq_provavel(unittest.TestCase):\n",
    "\n",
    "    def teste_1(self):\n",
    "        self.assertEqual(seq_provavel('TAAA',pwm(['AAAA','AATA'])), 'TAAA')\n",
    "\n",
    "    def teste_seq_invalid(self):\n",
    "        with self.assertRaises(AssertionError):\n",
    "            seq_provavel([\"AAT\", ],pwm(['AAA','TTT']))\n",
    "    \n",
    "    def test_seq_vazio(self):\n",
    "        with self.assertRaises(AssertionError):\n",
    "            seq_provavel([\"\", \"ATC\"],pwm(['AAA','TTT']))\n",
    "                \n",
    "\n",
    "# Executar os testes\n",
    "result = unittest.TextTestRunner().run(unittest.TestLoader().loadTestsFromTestCase(Test_seq_provavel))\n",
    "\n",
    "# Verificar que falhas houveram nos testes\n",
    "if not result.wasSuccessful():\n",
    "    for failure in result.failures:\n",
    "        print(failure)"
   ]
  }
 ],
 "metadata": {
  "kernelspec": {
   "display_name": "Python 3 (ipykernel)",
   "language": "python",
   "name": "python3"
  },
  "language_info": {
   "codemirror_mode": {
    "name": "ipython",
    "version": 3
   },
   "file_extension": ".py",
   "mimetype": "text/x-python",
   "name": "python",
   "nbconvert_exporter": "python",
   "pygments_lexer": "ipython3",
   "version": "3.11.5"
  }
 },
 "nbformat": 4,
 "nbformat_minor": 5
}
