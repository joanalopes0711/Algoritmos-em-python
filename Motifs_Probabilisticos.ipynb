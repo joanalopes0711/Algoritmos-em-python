{
 "cells": [
  {
   "cell_type": "markdown",
   "id": "d4b12237",
   "metadata": {},
   "source": [
    "# Motifs"
   ]
  },
  {
   "cell_type": "markdown",
   "id": "3c951910",
   "metadata": {},
   "source": [
    "### Motifs Probabilísticos "
   ]
  },
  {
   "cell_type": "markdown",
   "id": "84e1d8a8",
   "metadata": {},
   "source": [
    "Motifs probabilísticos são padrões em sequências biológicas, como DNA ou proteínas, modelados com base em probabilidades. Eles representam a probabilidade de ocorrência de diferentes nucleotídeos ou aminoácidos em cada posição de um padrão. Estes são geralmente expressos por meio de PWM (Matriz de Probabilidade Ponderada) ou por PSSM (Matriz de Pontuação de Posição Específica). Os motifs proporcionam uma representação mais realista da variabilidade biológica.\n",
    "\n",
    "Na área de bioinformática, esses motifs podem representar padrões de nucleótidos em sequências de DNA, sendo úteis para identificar regiões conservadas nesses ácidos nucleicos. Revelando-se como ferramentas indispensaveis para compreender a regulação genética e identificar características fundamentais em estudos genômicos."
   ]
  },
  {
   "cell_type": "code",
   "execution_count": 26,
   "id": "3c8f4d84",
   "metadata": {},
   "outputs": [],
   "source": [
    "class Mat:\n",
    "    \"\"\"Implementação de uma matriz. \n",
    "    Definimos a classe Mat que para representar uma matriz, e ela possui métodos para obter \n",
    "    o número de linhas, o número de colunas, uma representação de string da matriz e permite a indexação usando [].\n",
    "    \"\"\"\n",
    "\n",
    "    def __init__(self, rows, cols):\n",
    "        #Inicia a matriz com zeros.\n",
    "        self.mat = [[0 for c in range(cols)]\n",
    "                    for r in range(rows)]\n",
    "\n",
    "    def numRows(self):\n",
    "        # Retorna o número de linhas na matriz\n",
    "        return len(self.mat)\n",
    "\n",
    "    def numCols(self):\n",
    "        # Retorna o número de colunas na matriz\n",
    "        return len(self.mat[0])\n",
    "\n",
    "    def __str__(self):\n",
    "        # Converte a matriz para uma representação de string\n",
    "        return '\\n'.join(' '.join(str(val) for val in row)\n",
    "                         for row in self.mat)\n",
    "\n",
    "    def __getitem__(self, n):\n",
    "        # Interface para a indexação [], retorna a linha n da matriz\n",
    "        return self.mat[n]"
   ]
  },
  {
   "cell_type": "code",
   "execution_count": 38,
   "id": "f9501edc",
   "metadata": {},
   "outputs": [],
   "source": [
    "seqs = ['ATTG','ATCG','ATTC','ACTC']\n",
    "\n",
    "seqs2 = \"\"\"HEM13 CCCATTGTTCTC\n",
    "HEM13 TTTCTGGTTCTC\n",
    "HEM13 TCAATTGTTTAG\n",
    "ANB1 CTCATTGTTGTC\n",
    "ANB1 TCCATTGTTCTC\n",
    "ANB1 CCTATTGTTCTC\n",
    "ANB1 TCCATTGTTCGT\n",
    "ROX1 CCAATTGTTTTG\"\"\"\n",
    "\n",
    "seqs2 = [x.split()[1] for x in seqs2.splitlines()]\n",
    "\n",
    "seqs3 = [\"cfgd\",\"cdss\",\"qwel\"]\n",
    "\n",
    "seqs4 = ['ATTGT','ATCGT','ATTCT','ACTCT']"
   ]
  },
  {
   "cell_type": "code",
   "execution_count": 39,
   "id": "2148205a",
   "metadata": {},
   "outputs": [],
   "source": [
    "class Motifs:\n",
    "    \"\"\"Classe que permite gerar Motifs probabilisticos \n",
    "    \"\"\"\n",
    "    def __init__(self, list_seqs):\n",
    "        \"\"\"Contrutor do Motifs onde criámos o nosso Alfabeto(letters) e onde gerámos a nossa Matriz vazia (mat)\n",
    "\n",
    "        Args:\n",
    "            list_seqs (list): Lista contendo diferentes sequências biológicas\n",
    "        \"\"\"\n",
    "        from collections import Counter\n",
    "        # Inicializa a classe com a lista de sequências\n",
    "        self.seqs = list_seqs\n",
    "        # Cria um alfabeto único a partir das sequências\n",
    "        self.letters = list(Counter([a for c in list_seqs for a in c]))\n",
    "        # Inicializa uma matriz vazia com base no tamanho do alfabeto e das sequências\n",
    "        self.mat = Mat(len(self.letters)+1, len(list_seqs[0])+1)\n",
    "    \n",
    "    def __repr__(self):\n",
    "        # Retorna uma representação string da matriz ao chamar a função repr\n",
    "        return print(self.mat)\n",
    "\n",
    "    def __str__(self) -> str:\n",
    "        # Retorna uma representação string da matriz ao chamar a função str\n",
    "        return print(self.mat)\n",
    "\n",
    "    def contagens(self):\n",
    "        \"\"\"Função que permite devolver a frequência dos elementos das sequências\n",
    "\n",
    "        Returns:\n",
    "            list: Matriz das Contagens \n",
    "        \"\"\"\n",
    "        # Atualiza a matriz com contagens de frequência dos elementos das sequências\n",
    "        # A primeira linha e coluna são utilizadas para rotular as posições\n",
    "        for c in self.seqs:\n",
    "            for coluna in range(len(self.seqs[0])):\n",
    "                linha = self.letters.index(c[coluna])\n",
    "                self.mat[linha + 1][coluna + 1] += 1\n",
    "                self.mat[0][coluna + 1] = coluna +1 \n",
    "                self.mat[0][0] = \".\"                \n",
    "                self.mat[linha +1][0] = self.letters[linha]\n",
    "        return print(self.mat)\n",
    "\n",
    "    def PWM (self, pseudo_count = 0):\n",
    "        \"\"\"Função que permite gerar a Matriz PWM\n",
    "\n",
    "        Args:\n",
    "            pseudo_count (int, optional): pseudocontagem. Defaults to 0.\n",
    "\n",
    "        Returns:\n",
    "            list: Matriz PWM\n",
    "        \"\"\"\n",
    "        self.mat = Mat(len(self.letters)+1,len(self.seqs[0])+1)\n",
    "        for c in self.seqs:\n",
    "            for coluna in range(len(self.seqs[0])):\n",
    "                linha = self.letters.index(c[coluna])\n",
    "                self.mat[linha + 1][coluna + 1] += 1\n",
    "                self.mat[0][coluna + 1] = f\"  {coluna +1} \"   \" \"  \n",
    "                self.mat[0][0] = \".\"                \n",
    "                self.mat[linha +1][0] = self.letters[linha] \n",
    "        try:      \n",
    "            for c in range(1,len(self.letters)+ 1):\n",
    "                for a in range(1,len(self.seqs)+ 1): \n",
    "                    self.mat[c][a] = round(float(self.mat[c][a] + pseudo_count + 0.01) / float(len(self.seqs)),3)\n",
    "            return print(self.mat)\n",
    "\n",
    "        except:\n",
    "            for c in range(1,len(self.letters)+ 1):\n",
    "                for a in range(1,len(self.seqs)+ 2): \n",
    "                    self.mat[c][a] = round(float(self.mat[c][a] + pseudo_count + 0.01) / float(len(self.seqs)),3)\n",
    "            return print(self.mat)\n",
    "\n",
    "    def PSSM(self, pseudo_count=0):\n",
    "        \"\"\"Função que permite gerar a Matriz PSSM\n",
    "\n",
    "        Args:\n",
    "            pseudo_count (int, optional): pseudocontagem. Defaults to 0.\n",
    "\n",
    "        Returns:\n",
    "            list: Matriz PSSM\n",
    "        \"\"\"\n",
    "        # Atualiza a matriz com contagens de frequência e aplica pseudocounts\n",
    "        self.mat = Mat(len(self.letters)+1, len(self.seqs[0])+1)\n",
    "        from math import log2\n",
    "        for c in self.seqs:\n",
    "            for coluna in range(len(self.seqs[0])):\n",
    "                linha = self.letters.index(c[coluna])\n",
    "                self.mat[linha + 1][coluna + 1] += 1\n",
    "                self.mat[0][coluna + 1] = f\"  {coluna +1} \"\n",
    "                self.mat[0][0] = \".\"               \n",
    "                self.mat[linha +1][0] = self.letters[linha] \n",
    "        try:\n",
    "            for c in range(1, len(self.letters) + 1):\n",
    "                for a in range(1, len(self.seqs) + 1): \n",
    "                    self.mat[c][a] = round((log2(((self.mat[c][a] + pseudo_count) / (len(self.seqs) + len(self.letters) * pseudo_count) / (1 / len(self.letters))))), 3)\n",
    "            return print(self.mat)\n",
    "        except:\n",
    "            for c in range(1, len(self.letters) + 1):\n",
    "                for a in range(1, len(self.seqs) + 2): \n",
    "                    self.mat[c][a] = round((log2(((self.mat[c][a] + pseudo_count) / (len(self.seqs) + len(self.letters) * pseudo_count) / (1 / len(self.letters))))), 3)\n",
    "            return print(self.mat)\n",
    "\n",
    "    def prob_seq(self, seq):\n",
    "        \"\"\"Função que permite devolver a probabilidade de uma sequência\n",
    "\n",
    "        Args:\n",
    "            seq (str): Sequência \n",
    "\n",
    "        Returns:\n",
    "            float: Probabilidade da sequência \n",
    "        \"\"\"\n",
    "\n",
    "        self.mat = Mat(len(self.letters)+1, len(self.seqs[0])+1)\n",
    "        prob = 1 \n",
    "        # Atualiza a matriz com contagens de frequência\n",
    "        for c in self.seqs:\n",
    "            for coluna in range(len(self.seqs[0])):\n",
    "                linha = self.letters.index(c[coluna])\n",
    "                self.mat[linha + 1][coluna + 1] += 1\n",
    "                self.mat[0][coluna + 1] = f\"  {coluna +1} \"   \" \" \n",
    "                self.mat[0][0] = \".\"               \n",
    "                self.mat[linha +1][0] = self.letters[linha] \n",
    "        # Normaliza as frequências para probabilidades\n",
    "        for c in range(1, len(self.letters) + 1):\n",
    "            for a in range(1, len(self.seqs) + 1):\n",
    "                self.mat[c][a] = round(float(self.mat[c][a] + 0.01) / float(len(self.seqs)), 3)\n",
    "        \n",
    "        # Calcula a probabilidade da sequência\n",
    "        for c in range(1, len(self.seqs[0]) + 1):\n",
    "            a = self.letters.index(seq[c - 1])\n",
    "            prob *= self.mat[a + 1][c]\n",
    "        return round(prob, 4)\n",
    "\n",
    "    def most_prob_seq(self, pseudo_count=0):\n",
    "        \"\"\"Função que permite devolver a sequência mais provável de ocorrer\n",
    "\n",
    "        Args:\n",
    "            pseudo_count (int, optional): pseudocontagem. Defaults to 0.\n",
    "\n",
    "        Returns:\n",
    "            str: Sequência mais provável de ocorrer\n",
    "        \"\"\"\n",
    "\n",
    "        self.mat = Mat(len(self.letters)+1, len(self.seqs[0])+1)\n",
    "        resul = \"\"\n",
    "        # Atualiza a matriz com contagens de frequência e aplica pseudocounts\n",
    "        for c in self.seqs:\n",
    "            for coluna in range(len(self.seqs[0])):\n",
    "                linha = self.letters.index(c[coluna])\n",
    "                self.mat[linha + 1][coluna + 1] += 1\n",
    "                self.mat[0][coluna + 1] = f\"  {coluna +1} \"   \" \"  \n",
    "                self.mat[0][0] = \".\"               \n",
    "                self.mat[linha +1][0] = self.letters[linha] \n",
    "        # Normaliza as frequências para probabilidades\n",
    "        for c in range(1, len(self.letters) + 1):\n",
    "            for a in range(1, len(self.seqs) + 1):\n",
    "                self.mat[c][a] = round(float(self.mat[c][a] + pseudo_count + 0.01) / float(len(self.seqs)), 3)\n",
    "        list_temp= []\n",
    "        list_final = []\n",
    "        # Encontra a posição mais provável para cada coluna\n",
    "        for c in range(1, len(self.seqs) + 1):\n",
    "            for a in range(1, len(self.seqs) + 1):\n",
    "                list_temp.append((self.mat[a][c], a))\n",
    "            list_final.append(max(list_temp))\n",
    "            list_temp =[]\n",
    "        \n",
    "        # Constrói a sequência mais provável\n",
    "        for c in list_final:\n",
    "            for a in range(1, len(self.seqs[0]) + 1):\n",
    "                if a == c[1]:\n",
    "                    resul += self.mat[a][0]\n",
    "        return resul"
   ]
  },
  {
   "cell_type": "code",
   "execution_count": 40,
   "id": "94358aa7",
   "metadata": {},
   "outputs": [
    {
     "name": "stdout",
     "output_type": "stream",
     "text": [
      ". 1 2 3 4\n",
      "A 4 0 0 0\n",
      "T 0 3 3 0\n",
      "G 0 0 0 2\n",
      "C 0 1 1 2\n"
     ]
    }
   ],
   "source": [
    "a = Motifs(seqs)\n",
    "a.contagens()"
   ]
  },
  {
   "cell_type": "code",
   "execution_count": 41,
   "id": "9c6dd7f2",
   "metadata": {},
   "outputs": [
    {
     "data": {
      "text/plain": [
       "0.2845"
      ]
     },
     "execution_count": 41,
     "metadata": {},
     "output_type": "execute_result"
    }
   ],
   "source": [
    "a.prob_seq(\"ATTG\")"
   ]
  },
  {
   "cell_type": "code",
   "execution_count": 42,
   "id": "62175380",
   "metadata": {},
   "outputs": [
    {
     "data": {
      "text/plain": [
       "'ATTC'"
      ]
     },
     "execution_count": 42,
     "metadata": {},
     "output_type": "execute_result"
    }
   ],
   "source": [
    "a.most_prob_seq()"
   ]
  },
  {
   "cell_type": "code",
   "execution_count": 43,
   "id": "523f8efa",
   "metadata": {},
   "outputs": [
    {
     "name": "stderr",
     "output_type": "stream",
     "text": [
      "..\n",
      "----------------------------------------------------------------------\n",
      "Ran 2 tests in 0.002s\n",
      "\n",
      "OK\n"
     ]
    },
    {
     "data": {
      "text/plain": [
       "<unittest.main.TestProgram at 0x226547a3310>"
      ]
     },
     "execution_count": 43,
     "metadata": {},
     "output_type": "execute_result"
    }
   ],
   "source": [
    "import unittest  \n",
    "\n",
    "class Test_Motifs (unittest.TestCase):\n",
    "\n",
    "    seqs = ['ATTG','ATCG','ATTC','ACTC']\n",
    "\n",
    "\n",
    "    def test_prob_seq (self):\n",
    "        self.assertEqual(Motifs(seqs).prob_seq(\"ATTG\"), 0.2845)\n",
    "\n",
    "\n",
    "    def test_most_prob_seq (self):\n",
    "        self.assertEqual(Motifs(seqs).most_prob_seq(), \"ATTC\")\n",
    "\n",
    "unittest.main(argv=[''], exit=False)\n"
   ]
  },
  {
   "cell_type": "code",
   "execution_count": 54,
   "id": "84f81a27",
   "metadata": {
    "scrolled": false
   },
   "outputs": [
    {
     "name": "stdout",
     "output_type": "stream",
     "text": [
      "Contagens:\n",
      ". 1 2 3 4\n",
      "A 4 0 0 0\n",
      "T 0 3 3 0\n",
      "G 0 0 0 2\n",
      "C 0 1 1 2\n",
      "\n",
      "Matriz PWM:\n",
      ".   1     2     3     4  \n",
      "A 1.752 0.752 0.752 0.752\n",
      "T 0.752 1.502 1.502 0.752\n",
      "G 0.752 0.752 0.752 1.252\n",
      "C 0.752 1.002 1.002 1.252\n",
      "\n",
      "Matriz PSSM:\n",
      ".   1    2    3    4 \n",
      "A 1.322 -1.0 -1.0 -1.0\n",
      "T -1.0 1.0 1.0 -1.0\n",
      "G -1.0 -1.0 -1.0 0.585\n",
      "C -1.0 0.0 0.0 0.585\n",
      "\n",
      "Probabilidade da sequência 'ATTT': 0.0017\n",
      "\n",
      "Sequência mais provável: ATTC\n"
     ]
    }
   ],
   "source": [
    "# Criando uma instância da classe Motifs com a lista de sequências \n",
    "motifs_instance = Motifs(seqs)\n",
    "\n",
    "# Exibindo as contagens\n",
    "print(\"Contagens:\")\n",
    "motifs_instance.contagens()\n",
    "\n",
    "# Gerando e exibindo a Matriz PWM com um pseudocontagem de 3\n",
    "print(\"\\nMatriz PWM:\")\n",
    "motifs_instance.PWM(3)\n",
    "\n",
    "# Gerando e exibindo a Matriz PSSM com uma pseudocontagem de 1\n",
    "print(\"\\nMatriz PSSM:\")\n",
    "motifs_instance.PSSM(1)\n",
    "\n",
    "# Calculando a probabilidade da sequência \"ATTT\"\n",
    "print(\"\\nProbabilidade da sequência 'ATTT':\", motifs_instance.prob_seq(\"ATTT\"))\n",
    "\n",
    "# Encontrando a sequência mais provável\n",
    "print(\"\\nSequência mais provável:\", motifs_instance.most_prob_seq())\n"
   ]
  },
  {
   "cell_type": "code",
   "execution_count": null,
   "id": "8bbc3250",
   "metadata": {},
   "outputs": [],
   "source": []
  }
 ],
 "metadata": {
  "kernelspec": {
   "display_name": "Python 3 (ipykernel)",
   "language": "python",
   "name": "python3"
  },
  "language_info": {
   "codemirror_mode": {
    "name": "ipython",
    "version": 3
   },
   "file_extension": ".py",
   "mimetype": "text/x-python",
   "name": "python",
   "nbconvert_exporter": "python",
   "pygments_lexer": "ipython3",
   "version": "3.11.5"
  }
 },
 "nbformat": 4,
 "nbformat_minor": 5
}
