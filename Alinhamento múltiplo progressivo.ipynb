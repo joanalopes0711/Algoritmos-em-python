{
 "cells": [
  {
   "cell_type": "markdown",
   "id": "7ba99ce0",
   "metadata": {},
   "source": [
    "### Funções Auxiliares"
   ]
  },
  {
   "cell_type": "code",
   "execution_count": 1,
   "id": "432e551a",
   "metadata": {},
   "outputs": [],
   "source": [
    "def formatar(x):\n",
    "    \"\"\"\n",
    "    Formata um valor para impressão em uma matriz.\n",
    "\n",
    "    Parâmetros:\n",
    "    x: int or str - O valor a ser formatado.\n",
    "\n",
    "    Retorna:\n",
    "    str - Valor formatado, alinhado à direita e preenchido com espaços.\n",
    "    \"\"\"\n",
    "    # Se o valor for um número inteiro, formata como inteiro alinhado à direita com um mínimo de 3 dígitos.\n",
    "    if type(x) is int:\n",
    "        return f\"{x:>3d}\"\n",
    "    # Se o valor for uma string, formata como string alinhada à direita com um mínimo de 3 caracteres.\n",
    "    else:\n",
    "        return f\"{x:>3}\"\n",
    "\n",
    "def print_matrix(S1, S2, M):\n",
    "    \"\"\"\n",
    "    Imprime uma matriz formatada. Pode ser útil se quisermos analisar a matriz.\n",
    "\n",
    "    Parâmetros:\n",
    "    S1: list - Lista de caracteres para rótulos de coluna.\n",
    "    S2: list - Lista de caracteres para rótulos de linha.\n",
    "    M: list of list - Matriz a ser impressa.\n",
    "\n",
    "    Retorna:\n",
    "    None\n",
    "    \"\"\"\n",
    "    # Obtém a largura dos rótulos de coluna\n",
    "    col_width = max(len(str(x)) for x in S1)\n",
    "\n",
    "    # Imprime os rótulos de coluna\n",
    "    print(\" \" * (col_width + 2) + \" \".join(formatar(x) for x in S1))\n",
    "\n",
    "    # Imprime as linhas da matriz com rótulos de linha\n",
    "    for x2, linha in zip(S2, M):\n",
    "        # Imprime os rótulos de linha formatados à esquerda e preenchidos com espaços, seguidos pelos valores da linha formatados.\n",
    "        print(\"{:<{}} {}\".format(x2, col_width + 1, ' '.join(map(formatar, linha))))\n",
    "\n",
    "    # Adiciona uma linha em branco após a impressão da matriz\n",
    "    print()\n",
    "    \n",
    "def score_subst(x1, x2, g):\n",
    "    \"\"\"\n",
    "    Calcula a pontuação de substituição entre dois caracteres.\n",
    "\n",
    "    Parâmetros:\n",
    "    x1: str - Primeiro caracter\n",
    "    x2: str - Segundo caracter\n",
    "    g: int - Penalidade por gap (espaço) na substituição\n",
    "\n",
    "    Retorna:\n",
    "    int - Pontuação da substituição entre os caracteres.\n",
    "    \"\"\"\n",
    "\n",
    "    # Verifica se há um gap (espaço) em pelo menos um dos caracteres\n",
    "    if '-' in x1 + x2:\n",
    "        return g  # Retorna a penalidade por gap\n",
    "\n",
    "    # Verifica se os caracteres fazem match, em caso afirmativo valor= 2 (exemplo)\n",
    "    if x1 == x2:\n",
    "        return 2  \n",
    "\n",
    "    # Caso contrário, retorna a penalidade por mismatch valor=-1 (exemplo)\n",
    "    return -1"
   ]
  },
  {
   "cell_type": "markdown",
   "id": "1260e17a",
   "metadata": {},
   "source": [
    "### Algoritmo Needleman Wunsch"
   ]
  },
  {
   "cell_type": "code",
   "execution_count": 2,
   "id": "6d4c8b77",
   "metadata": {},
   "outputs": [],
   "source": [
    "def needleman_wunsch(S1, S2, gap_penalty, score_subst):\n",
    "    \"\"\"\n",
    "    Algoritmo de Needleman-Wunsch para calcular o alinhamento global de duas sequências.\n",
    "\n",
    "    Parâmetros:\n",
    "    S1: str - Primeira sequência\n",
    "    S2: str - Segunda sequência\n",
    "    gap_penalty: int - Penalidade por espaçamento (gap)\n",
    "    score_subst: função auxiliar - Função que recebe dois caracteres e retorna o score de substituição entre eles\n",
    "\n",
    "    Retorna:\n",
    "    Tuple[int, str] - Pontuação do alinhamento ótimo e a sequência alinhada\n",
    "    \"\"\"\n",
    "\n",
    "    \n",
    "    #Garantir que recebemos duas sequências string e que o gap penalty é inteiro.\n",
    "    assert isinstance(S1, str) and isinstance(S2, str), \"S1 e S2 devem ser strings.\"\n",
    "    assert isinstance(gap_penalty, int), \"A penalidade por gap deve ser um número inteiro.\"\n",
    "    assert S1.strip() != '' and S2.strip() != '', \"As sequências não podem ser vazias ou consistir apenas de espaços.\"\n",
    "    assert all(c.isalpha() for c in S1), \"A sequência S1 contém caracteres inválidos.\"\n",
    "    assert all(c.isalpha() for c in S2), \"A sequência S2 contém caracteres inválidos.\"\n",
    "\n",
    "    \n",
    "    \n",
    "    # Adiciona um espaço '-' no início de ambas as sequências\n",
    "    S2 = '-' + S2\n",
    "    S1 = '-' + S1\n",
    "\n",
    "    ncols = len(S1)\n",
    "    nlins = len(S2)\n",
    "\n",
    "    # Inicializa as matrizes de scores e de trace\n",
    "    scores = [[0 for _ in range(ncols)] for _ in range(nlins)]\n",
    "    trace = [[0 for _ in range(ncols)] for _ in range(nlins)]\n",
    "\n",
    "    # Inicializa a primeira linha da matriz de scores e de trace\n",
    "    scores[0] = [C * gap_penalty for C, _ in enumerate(S1)]\n",
    "    trace[0] = [0 if C == 0 else 'E' for C, _ in enumerate(S1)]\n",
    "\n",
    "    # Inicializa a primeira coluna da matriz de scores\n",
    "    for L, _ in enumerate(S2):\n",
    "        scores[L][0] = L * gap_penalty\n",
    "        trace[L][0] = 0 if L == 0 else 'C'\n",
    "\n",
    "    # Preenche a matriz de scores e de trace tendo em conta que as primeiras linha e coluna já foram preenchidas\n",
    "    for L, (X2, linha) in enumerate(zip(S2, scores)):\n",
    "        for C, (X1, V) in enumerate(zip(S1, linha)):\n",
    "            if L > 0 and C > 0:\n",
    "                # Calcula os valores para as três opções: diagonal, esquerda, cima\n",
    "                diag = scores[L - 1][C - 1] + score_subst(X1, X2, gap_penalty)\n",
    "                left = scores[L][C - 1] + gap_penalty\n",
    "                up = scores[L - 1][C] + gap_penalty\n",
    "\n",
    "                # Lista de escolhas e direções correspondentes\n",
    "                choices = [diag, left, up]\n",
    "                # Para conseguirmos colocar acessar às letras na matriz de trace (\"DiagonalEsquerdaCima\")\n",
    "                directions = \"DEC\"\n",
    "\n",
    "                # Encontra o máximo valor e a direção correspondente\n",
    "                value = max(*choices)\n",
    "                # Armazena na matriz de trace a direção escolhida para a célula com base na pontuação máxima entre as opções \n",
    "                trace[L][C] = directions[choices.index(value)]\n",
    "                # Armazena na matriz de pontuações a pontuação acumulada até uma célula com base na escolha da direção que maximizou a pontuação.\n",
    "                scores[L][C] = value\n",
    "                \n",
    "    #Se quisermos visualizar as matrizes (de score e de trace)\n",
    "    print_matrix(S1, S2, scores)\n",
    "    print_matrix(S1, S2, trace)\n",
    "    \n",
    "    # Retorna a pontuação total e a sequência alinhada com recurso à função de reconstrução do alinhamento\n",
    "    return scores[-1][-1], reconstruct_alignment(S1, S2, trace)\n",
    "\n",
    "\n",
    "def reconstruct_alignment(S1, S2, trace):\n",
    "    \"\"\"\n",
    "    Reconstrói a sequência alinhada a partir da matriz de trace.\n",
    "\n",
    "    Parâmetros:\n",
    "    S1: str - Primeira sequência\n",
    "    S2: str - Segunda sequência\n",
    "    trace: list - Matriz de rastreamento\n",
    "\n",
    "    Retorna:\n",
    "    Tuple[str, str] - Par de sequências alinhadas\n",
    "    \"\"\"\n",
    "\n",
    "    aligned_seq1 = \"\"\n",
    "    aligned_seq2 = \"\"\n",
    "    L, C = len(S2) - 1, len(S1) - 1\n",
    "\n",
    "    # Realiza o trace-back até atingir a primeira célula da matriz\n",
    "    while trace[L][C] != 0:\n",
    "        if trace[L][C] == 'D':\n",
    "            aligned_seq1 = S1[C] + aligned_seq1\n",
    "            aligned_seq2 = S2[L] + aligned_seq2\n",
    "            L -= 1\n",
    "            C -= 1\n",
    "        elif trace[L][C] == 'E':\n",
    "            aligned_seq1 = S1[C] + aligned_seq1\n",
    "            aligned_seq2 = '-' + aligned_seq2\n",
    "            C -= 1\n",
    "        elif trace[L][C] == 'C':\n",
    "            aligned_seq1 = '-' + aligned_seq1\n",
    "            aligned_seq2 = S2[L] + aligned_seq2\n",
    "            L -= 1\n",
    "\n",
    "    # Retorna o melhor par de sequências alinhadas\n",
    "    return aligned_seq1, aligned_seq2"
   ]
  },
  {
   "cell_type": "code",
   "execution_count": 3,
   "id": "b975de05",
   "metadata": {},
   "outputs": [
    {
     "name": "stdout",
     "output_type": "stream",
     "text": [
      "     -   A   C   G   T   A\n",
      "-    0  -2  -4  -6  -8 -10\n",
      "C   -2  -1   0  -2  -4  -6\n",
      "C   -4  -3   1  -1  -3  -5\n",
      "A   -6  -2  -1   0  -2  -1\n",
      "T   -8  -4  -3  -2   2   0\n",
      "\n",
      "     -   A   C   G   T   A\n",
      "-    0   E   E   E   E   E\n",
      "C    C   D   D   E   E   E\n",
      "C    C   D   D   D   D   D\n",
      "A    C   D   C   D   D   D\n",
      "T    C   C   D   D   D   E\n",
      "\n"
     ]
    },
    {
     "data": {
      "text/plain": [
       "(0, ('ACGTA', 'CCAT-'))"
      ]
     },
     "execution_count": 3,
     "metadata": {},
     "output_type": "execute_result"
    }
   ],
   "source": [
    "needleman_wunsch(\"ACGTA\", \"CCAT\", -2, score_subst)"
   ]
  },
  {
   "cell_type": "markdown",
   "id": "7b8d4dd6",
   "metadata": {},
   "source": [
    "### Função para calcular a sequência consenso"
   ]
  },
  {
   "cell_type": "code",
   "execution_count": 17,
   "id": "65a9f092",
   "metadata": {},
   "outputs": [],
   "source": [
    "def consenso(alinhamento: list[str]) -> str:\n",
    "    # Inicializa uma string vazia para armazenar o consenso\n",
    "    res = \"\"\n",
    "    \n",
    "    # Itera sobre as colunas do alinhamento usando zip(*alinhamento)\n",
    "    for x in zip(*alinhamento):\n",
    "        # Chama a função consenso_char para obter o consenso da coluna atual e concatena ao resultado\n",
    "        res += consenso_char(x)\n",
    "        \n",
    "        # Imprime o resultado parcial (opcional, para visualização)\n",
    "        #print(res)\n",
    "    \n",
    "    # Retorna a sequência consenso\n",
    "    return res\n",
    "\n",
    "# Define uma função para obter o segundo elemento de uma tupla\n",
    "def get_second_element(tupla):\n",
    "    return tupla[1]\n",
    "\n",
    "def consenso_char(lista: list[str]) -> str:\n",
    "    # Concatena os caracteres da lista em uma string e remove os espaços (\"-\")\n",
    "    string = \"\".join(lista).replace(\"-\", \"\")\n",
    "    \n",
    "    # Cria uma lista de tuplas com o caractere e sua contagem, ordenada pela contagem em ordem decrescente\n",
    "    ocorrencias = sorted([(x, string.count(x)) for x in set(string)], key=get_second_element, reverse=True)\n",
    "    \n",
    "    #Para verificarmos a contagem (opcional)\n",
    "    print(ocorrencias)\n",
    "    \n",
    "    # Retorna o caractere mais frequente na coluna (primeiro caractere da primeira tupla)\n",
    "    return list(ocorrencias)[0][0]"
   ]
  },
  {
   "cell_type": "code",
   "execution_count": 18,
   "id": "85a76dad",
   "metadata": {
    "scrolled": true
   },
   "outputs": [
    {
     "name": "stdout",
     "output_type": "stream",
     "text": [
      "[('A', 1), ('C', 1)]\n",
      "[('C', 2)]\n",
      "[('A', 1), ('G', 1)]\n",
      "[('T', 2)]\n",
      "[('A', 1)]\n"
     ]
    },
    {
     "data": {
      "text/plain": [
       "'ACATA'"
      ]
     },
     "execution_count": 18,
     "metadata": {},
     "output_type": "execute_result"
    }
   ],
   "source": [
    "consenso([\"ACGTA\",\"CCAT-\"])"
   ]
  },
  {
   "cell_type": "markdown",
   "id": "443a284f",
   "metadata": {},
   "source": [
    "\n",
    "### Função para resconstruir o alinhamento "
   ]
  },
  {
   "cell_type": "markdown",
   "id": "266c4e71",
   "metadata": {},
   "source": [
    "A função **constroi_alin** realiza a construção de um novo alinhamento inserindo espaços nas posições onde há espaços no alinhamento do consenso. Para fazer isso, ela realiza os seguintes passos:\n",
    "\n",
    "**Cálculo do Consenso:**\n",
    "\n",
    "- Chama a função consenso(alinhamento) para calcular o consenso das sequências presentes no alinhamento original. O consenso é uma sequência de caracteres que representa, para cada posição, o caractere mais frequente naquela posição entre as sequências do alinhamento.\n",
    "\n",
    "**Alinhamento Global:**\n",
    "\n",
    "- Utiliza a função needleman_wunsch para realizar um alinhamento global entre o consenso (seq_cons) e a sequência seq. O resultado do alinhamento é uma pontuação (score) e um par de sequências alinhadas (A1 e A2).\n",
    "\n",
    "\n",
    "**Identificação de Espaços no Alinhamento do Consenso:**\n",
    "\n",
    "- Encontra as posições onde há espaços na sequência A1 (que representa o alinhamento do consenso) e armazena essas posições na lista pos.\n",
    "\n",
    "**Adição de Espaços ao Alinhamento Original:**\n",
    "\n",
    "- Chama a função add_spaces(alinhamento, pos) para adicionar espaços ao alinhamento original nas posições identificadas.\n",
    "\n",
    "**Inclusão da Sequência Alinhada ao Novo Alinhamento:**\n",
    "\n",
    "- Adiciona a sequência alinhada A2 (a sequência da sequência seq após o alinhamento) ao final do novo alinhamento.\n",
    "\n",
    "**Retorno do Novo Alinhamento:**\n",
    "\n",
    "- Retorna o novo alinhamento, que consiste nas sequências do alinhamento original com os espaços adicionados nas posições correspondentes ao alinhamento do consenso, juntamente com a sequência alinhada A2."
   ]
  },
  {
   "cell_type": "code",
   "execution_count": 6,
   "id": "17eed700",
   "metadata": {},
   "outputs": [],
   "source": [
    "def constroi_alin(alinhamento: list[str], seq: str) -> list[str]:\n",
    "    # Calcula o consenso do alinhamento\n",
    "    seq_cons = consenso(alinhamento)\n",
    "    \n",
    "    # Executa o alinhamento global entre o consenso e a sequência dada\n",
    "    score, (A1, A2) = needleman_wunsch(seq_cons, seq, -4, score_subst)\n",
    "    \n",
    "    # Encontra as posições onde há espaços no alinhamento do consenso\n",
    "    pos = [p for p, x in enumerate(A1) if x == \"-\"]\n",
    "    \n",
    "    # Adiciona espaços ao alinhamento original nas posições identificadas\n",
    "    return add_spaces(alinhamento, pos) + [A2]\n",
    "\n",
    "\n",
    "def add_spaces(alinhamento: list[str], pos: list[int]) -> list[str]:\n",
    "    # Inicializa uma nova lista para armazenar o alinhamento modificado\n",
    "    new_align = []\n",
    "    \n",
    "    # Itera sobre as sequências do alinhamento original\n",
    "    for seq in alinhamento:\n",
    "        # Adiciona espaços nas posições identificadas\n",
    "        for p in pos:\n",
    "            seq = seq[:p] + \"-\" + seq[p:]\n",
    "        # Adiciona a sequência modificada à nova lista\n",
    "        new_align.append(seq)\n",
    "    \n",
    "    # Retorna a nova lista de alinhamento\n",
    "    return new_align"
   ]
  },
  {
   "cell_type": "code",
   "execution_count": 7,
   "id": "d4ff4590",
   "metadata": {},
   "outputs": [
    {
     "name": "stdout",
     "output_type": "stream",
     "text": [
      "A\n",
      "AC\n",
      "ACC\n",
      "     -   A   C   C\n",
      "-    0  -4  -8 -12\n",
      "A   -4   2  -2  -6\n",
      "C   -8  -2   4   0\n",
      "C  -12  -6   0   6\n",
      "T  -16 -10  -4   2\n",
      "G  -20 -14  -8  -2\n",
      "\n",
      "     -   A   C   C\n",
      "-    0   E   E   E\n",
      "A    C   D   E   E\n",
      "C    C   C   D   D\n",
      "C    C   C   D   D\n",
      "T    C   C   C   C\n",
      "G    C   C   C   C\n",
      "\n"
     ]
    },
    {
     "data": {
      "text/plain": [
       "['A-C--', 'ACT--', 'ACCTG']"
      ]
     },
     "execution_count": 7,
     "metadata": {},
     "output_type": "execute_result"
    }
   ],
   "source": [
    "constroi_alin([\"A-C\",\"ACT\"], \"ACCTG\")"
   ]
  },
  {
   "cell_type": "markdown",
   "id": "fc99dab7",
   "metadata": {},
   "source": [
    "### Função incluindo todas as anteriores para realizar o alinhamento progressivo"
   ]
  },
  {
   "cell_type": "code",
   "execution_count": 8,
   "id": "c0eff292",
   "metadata": {},
   "outputs": [],
   "source": [
    "def alinhamento_progressivo(seqs: list[str]) -> list[str]:\n",
    "    # Desempacota as duas primeiras sequências e armazena o restante em 'resto'\n",
    "    A1, A2, *resto = seqs\n",
    "    \n",
    "    # Realiza um alinhamento global entre as duas primeiras sequências usando a função NW\n",
    "    score, (A1, A2) = needleman_wunsch(A1, A2, -4, score_subst)\n",
    "    \n",
    "    # Inicializa uma lista 'alinhamento' com as sequências alinhadas\n",
    "    alinhamento = [A1, A2]\n",
    "    \n",
    "    # Itera sobre as sequências restantes para construir o alinhamento progressivo\n",
    "    for seq in resto:\n",
    "        # Chama a função constroi_alin para adicionar a sequência ao alinhamento progressivo\n",
    "        alinhamento = constroi_alin(alinhamento, seq)\n",
    "        \n",
    "    # Retorna o alinhamento \n",
    "    return alinhamento"
   ]
  },
  {
   "cell_type": "code",
   "execution_count": 14,
   "id": "f4703444",
   "metadata": {
    "scrolled": true
   },
   "outputs": [
    {
     "name": "stdout",
     "output_type": "stream",
     "text": [
      "     -   A   C   G   T   A\n",
      "-    0  -4  -8 -12 -16 -20\n",
      "C   -4  -1  -2  -6 -10 -14\n",
      "C   -8  -5   1  -3  -7 -11\n",
      "A  -12  -6  -3   0  -4  -5\n",
      "T  -16 -10  -7  -4   2  -2\n",
      "\n",
      "     -   A   C   G   T   A\n",
      "-    0   E   E   E   E   E\n",
      "C    C   D   D   E   E   E\n",
      "C    C   D   D   D   D   D\n",
      "A    C   D   C   D   D   D\n",
      "T    C   C   D   D   D   E\n",
      "\n",
      "A\n",
      "AC\n",
      "ACA\n",
      "ACAT\n",
      "ACATA\n",
      "     -   A   C   A   T   A\n",
      "-    0  -4  -8 -12 -16 -20\n",
      "A   -4   2  -2  -6 -10 -14\n",
      "C   -8  -2   4   0  -4  -8\n",
      "C  -12  -6   0   3  -1  -5\n",
      "A  -16 -10  -4   2   2   1\n",
      "\n",
      "     -   A   C   A   T   A\n",
      "-    0   E   E   E   E   E\n",
      "A    C   D   E   D   E   D\n",
      "C    C   C   D   E   E   E\n",
      "C    C   C   D   D   D   D\n",
      "A    C   D   C   D   D   D\n",
      "\n"
     ]
    },
    {
     "data": {
      "text/plain": [
       "['ACGTA', 'CCAT-', 'AC-CA']"
      ]
     },
     "execution_count": 14,
     "metadata": {},
     "output_type": "execute_result"
    }
   ],
   "source": [
    "alinhamento_progressivo(\"ACGTA CCAT ACCA\".split())"
   ]
  }
 ],
 "metadata": {
  "kernelspec": {
   "display_name": "Python 3 (ipykernel)",
   "language": "python",
   "name": "python3"
  },
  "language_info": {
   "codemirror_mode": {
    "name": "ipython",
    "version": 3
   },
   "file_extension": ".py",
   "mimetype": "text/x-python",
   "name": "python",
   "nbconvert_exporter": "python",
   "pygments_lexer": "ipython3",
   "version": "3.11.3"
  }
 },
 "nbformat": 4,
 "nbformat_minor": 5
}
