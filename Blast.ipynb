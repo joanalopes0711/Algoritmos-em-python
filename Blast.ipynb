{
 "cells": [
  {
   "cell_type": "markdown",
   "metadata": {},
   "source": [
    "## Blast\n"
   ]
  },
  {
   "cell_type": "code",
   "execution_count": 52,
   "metadata": {},
   "outputs": [],
   "source": [
    "query= \"AATATAT\"\n",
    "seq = \"AATATGTTATATAATAATATTT\"\n",
    "w = 3"
   ]
  },
  {
   "cell_type": "code",
   "execution_count": 53,
   "metadata": {},
   "outputs": [
    {
     "name": "stdout",
     "output_type": "stream",
     "text": [
      "{'AAT': [0], 'ATA': [1, 3], 'TAT': [2, 4]}\n"
     ]
    }
   ],
   "source": [
    "def query_map(query : str, w : int) -> dict[str, list[int]]:\n",
    "    \"\"\"\n",
    "    query: a string que procuramos\n",
    "    w: o tamanho alvo\n",
    "    Devolve um dicionário\n",
    "        cuja chave são todas as strings de tamanho w da query e\n",
    "        cujo valor é uma lista com todos os offsets onde aparecem\n",
    "    \"\"\"\n",
    "    qm = {}                               # Inicia-se um dicionário vazio; \n",
    "\n",
    "    for i in range(len(query) - w + 1):   # Inicia-se um for loop para ler cada ocorrência;\n",
    "        substring = query[i : i + w]      # Inicia-se a substring que vai ser lida em comprimentos de w (iteração i até i + w, ou seja, se w = 3, vai ler da iteração 0 até 0 + 3);\n",
    "        #print(substring)           \n",
    "        if substring not in qm:           # Vai ler a substring e procurar se ele não ocorre em qm;\n",
    "            qm[substring] = [i]           # Se não encontrar repetições da ocorrência, retorna a única ocorrência dela;\n",
    "        else:\n",
    "            qm[substring].append(i)       # Se encontrar repetições da ocorrência, ADICIONA as posições do primeiro caracter de cada substring.\n",
    "\n",
    "    return qm\n",
    "\n",
    "example = query_map(\"AATATAT\",3)\n",
    "print(example)"
   ]
  },
  {
   "cell_type": "code",
   "execution_count": 54,
   "metadata": {},
   "outputs": [
    {
     "name": "stdout",
     "output_type": "stream",
     "text": [
      "[(0, 0), (0, 12), (0, 15), (1, 1), (1, 8), (1, 10), (1, 13), (1, 16), (3, 1), (3, 8), (3, 10), (3, 13), (3, 16), (2, 2), (2, 7), (2, 9), (2, 17), (4, 2), (4, 7), (4, 9), (4, 17)]\n"
     ]
    }
   ],
   "source": [
    "def hits(qm, seq):\n",
    "    \"\"\"\n",
    "        qm: o que é devolvido ao invocar a função query_map\n",
    "        seq: a sequência alvo\n",
    "\n",
    "        Devolve uma lista em que cada elemento é um tuplo com dois valores:\n",
    "            1. O Offset na query\n",
    "            2. O offset na seq\n",
    "            \n",
    "        snip: valor do dicionário qm\n",
    "        pos_qm: posição do snip, tal revelado no dicionário qm\n",
    "\n",
    "        Algoritmo\n",
    "        Navegar pelos pares chave/valor (snip, posições) do qm\n",
    "            Descobrir todas as posições (P2) em seq onde o snip se encontra\n",
    "            Navegar (P1) pela lista de posições\n",
    "                Navegar por essas posições (P2)\n",
    "                    Adicionar o par (P1, P2) à lista dos resultados\n",
    "    \"\"\"\n",
    "    results = []\n",
    "    for snip, pos_qm in qm.items(): # Iteração dos pares key/value do dict qm\n",
    "        if snip in seq: # Verifica se a substring está presente na sequência 'seq'\n",
    "            pos_seq = [i for i in range(len(seq) - len(snip) + 1) if seq[i:i+len(snip)] == snip] # Encontra todas as posições na sequência dada onde a substring ocorre\n",
    "            \n",
    "            for P1 in pos_qm: # Itera sobre as posições na query (pos_qm)\n",
    "                for P2 in pos_seq: # Itera sobre as posições em 'seq'\n",
    "                    results.append((P1, P2)) # Adiciona o par (P1, P2) à lista 'results'\n",
    "                    \n",
    "    return results\n",
    "\n",
    "hit=hits(example,\"AATATGTTATATAATAATATTT\")\n",
    "print(hit)"
   ]
  },
  {
   "cell_type": "code",
   "execution_count": 55,
   "metadata": {},
   "outputs": [
    {
     "name": "stdout",
     "output_type": "stream",
     "text": [
      "(0, 15, 7, 6)\n"
     ]
    }
   ],
   "source": [
    "def extends_hit(seq, hit, query, w):\n",
    "    \"\"\"\n",
    "    query: a string que procuramos\n",
    "    seq: a sequência alvo\n",
    "    hit: Um dos elementos devolvidos pela invocação da função hits\n",
    "    w: o tamanho_extensão da janela\n",
    "\n",
    "    Devolve um tuplo com:\n",
    "      1. Devolve a posição inicial da chave na query\n",
    "      2. Devolve a posição inicial da chave na seq\n",
    "      3. O tamanho_extensão do resultado\n",
    "      4. O nº de matches corretos\n",
    "    \"\"\"\n",
    "    \n",
    "    # Extrai as posições iniciais da correspondência\n",
    "    start_query, start_seq = hit[0], hit[1]\n",
    "\n",
    "    # Mover para frente\n",
    "    match_forward = 0  # Contador para correspondências para frente\n",
    "    tamanho_extensão = 0  # Tamanho atual da extensão\n",
    "    melhor_tamanho = 0  # Melhor tamanho_extensão encontrado\n",
    "    while 2 * match_forward >= tamanho_extensão and start_query + w + tamanho_extensão < len(query) and start_seq + w + tamanho_extensão < len(seq):\n",
    "        # Verifica correspondência entre a consulta e a sequência\n",
    "        if query[start_query + w + tamanho_extensão] == seq[start_seq + w + tamanho_extensão]:\n",
    "            match_forward += 1\n",
    "            melhor_tamanho = tamanho_extensão + 1\n",
    "        tamanho_extensão += 1\n",
    "    size = w + melhor_tamanho  # Calcula o tamanho_extensão total da correspondência estendida para frente\n",
    "\n",
    "    # Mover para trás\n",
    "    tamanho_extensão = 0  # Reinicia o tamanho_extensão para a contagem para trás\n",
    "    match_backwards = 0  # Contador para correspondências para trás\n",
    "    melhor_tamanho = 0  # Reinicia o melhor tamanho_extensão encontrado\n",
    "    while 2 * match_backwards >= tamanho_extensão and start_query > tamanho_extensão and start_seq > tamanho_extensão:\n",
    "        # Verifica correspondência entre a consulta e a sequência para trás\n",
    "        if query[start_query - tamanho_extensão - 1] == seq[start_seq - tamanho_extensão - 1]:\n",
    "            match_backwards += 1\n",
    "            melhor_tamanho = tamanho_extensão + 1\n",
    "        tamanho_extensão += 1\n",
    "    size += melhor_tamanho  # Adiciona o melhor tamanho_extensão encontrado para a extensão para trás\n",
    "\n",
    "    return (start_query - melhor_tamanho, start_seq - melhor_tamanho, size, w + match_forward + match_backwards)\n",
    "\n",
    "ex = extends_hit(\"AATATGTTATATAATAATATTT\", (1, 16), \"AATATAT\", 3)\n",
    "print(ex)\n"
   ]
  },
  {
   "cell_type": "code",
   "execution_count": 58,
   "metadata": {},
   "outputs": [
    {
     "name": "stdout",
     "output_type": "stream",
     "text": [
      "(0, 0, 7, 6)\n"
     ]
    }
   ],
   "source": [
    "def best_hit(query: str, seq: str, qm: dict[str, list[int]], w: int) -> tuple[int, int, int, int]:\n",
    "    \"\"\"\n",
    "    Encontra a melhor correspondência entre uma sequência de consulta (query) e uma sequência alvo (seq).\n",
    "\n",
    "    Parâmetros:\n",
    "    - query: A string que procuramos.\n",
    "    - seq: A sequência alvo.\n",
    "    - qm: O dicionário gerado pela função query_map, contendo as substrings da query e seus offsets.\n",
    "    - w: O tamanho da janela.\n",
    "\n",
    "    Retorna um tuplo com:\n",
    "      1. O offset inicial na query.\n",
    "      2. O offset inicial na sequência alvo.\n",
    "      3. O tamanho do resultado.\n",
    "      4. O número de matches corretos.\n",
    "\n",
    "    A função utiliza as funções hits e extends_hit para encontrar a melhor correspondência,\n",
    "    considerando o número de matches corretos e o tamanho total da correspondência.\n",
    "    \"\"\"\n",
    "    get_hits = hits(qm, seq)  # Obtém as correspondências entre a query e a sequência alvo.\n",
    "    bestScore = -1.0          \n",
    "    best = ()                 \n",
    "\n",
    "    # Itera sobre todas as correspondências encontradas.\n",
    "    for h in get_hits:\n",
    "        # Estende a correspondência para obter mais informações.\n",
    "        ext = extends_hit(seq, h, query, w)\n",
    "        score = ext[3]  # O score é o número de matches corretos.\n",
    "\n",
    "        # Atualiza a melhor correspondência se o score for maior ou se o tamanho for menor.\n",
    "        if score > bestScore or (score == bestScore and ext[2] < best[2]):\n",
    "            bestScore = score\n",
    "            best = ext\n",
    "\n",
    "    return best\n",
    "\n",
    "print(best_hit(query,seq,example,w))"
   ]
  },
  {
   "cell_type": "code",
   "execution_count": 59,
   "metadata": {},
   "outputs": [
    {
     "name": "stderr",
     "output_type": "stream",
     "text": [
      "....\n",
      "----------------------------------------------------------------------\n",
      "Ran 4 tests in 0.002s\n",
      "\n",
      "OK\n"
     ]
    },
    {
     "data": {
      "text/plain": [
       "<unittest.runner.TextTestResult run=4 errors=0 failures=0>"
      ]
     },
     "execution_count": 59,
     "metadata": {},
     "output_type": "execute_result"
    }
   ],
   "source": [
    "import unittest\n",
    "\n",
    "class TestQueryFunctions(unittest.TestCase):\n",
    "    def setUp(self):\n",
    "        self.query = \"AATATAT\"\n",
    "        self.seq = \"AATATGTTATATAATAATATTT\"\n",
    "        self.w = 3\n",
    "        self.qm = query_map(self.query, self.w)\n",
    "\n",
    "    def test_query_map(self):\n",
    "        result = query_map(self.query, self.w)\n",
    "        expected = {'AAT': [0], 'ATA': [1, 3], 'TAT': [2, 4]}\n",
    "        self.assertEqual(result, expected)\n",
    "\n",
    "    def test_hits(self):\n",
    "        result = hits(self.qm, self.seq)\n",
    "        expected = [(0, 0), (0, 12), (0, 15), (1, 1), (1, 8), (1, 10), (1, 13), (1, 16), (3, 1), (3, 8), (3, 10), (3, 13), (3, 16), (2, 2), (2, 7), (2, 9), (2, 17), (4, 2), (4, 7), (4, 9), (4, 17)]\n",
    "        self.assertEqual(result, expected)\n",
    "\n",
    "    def test_extends_hit(self):\n",
    "        hit = (1, 16)\n",
    "        result = extends_hit(self.seq, hit, self.query, self.w)\n",
    "        expected = (0, 15, 7, 6)\n",
    "        self.assertEqual(result, expected)\n",
    "\n",
    "    def test_best_hit(self):\n",
    "        result = best_hit(self.query, self.seq, self.qm, self.w)\n",
    "        expected = (0, 0, 7, 6)\n",
    "        self.assertEqual(result, expected)\n",
    "\n",
    "test_suite = unittest.TestLoader().loadTestsFromTestCase(TestQueryFunctions)\n",
    "\n",
    "\n",
    "unittest.TextTestRunner().run(test_suite)\n"
   ]
  }
 ],
 "metadata": {
  "kernelspec": {
   "display_name": "Python 3",
   "language": "python",
   "name": "python3"
  },
  "language_info": {
   "codemirror_mode": {
    "name": "ipython",
    "version": 3
   },
   "file_extension": ".py",
   "mimetype": "text/x-python",
   "name": "python",
   "nbconvert_exporter": "python",
   "pygments_lexer": "ipython3",
   "version": "3.12.0"
  }
 },
 "nbformat": 4,
 "nbformat_minor": 2
}
