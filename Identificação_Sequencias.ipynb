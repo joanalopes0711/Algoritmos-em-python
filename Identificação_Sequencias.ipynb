{
 "cells": [
  {
   "cell_type": "markdown",
   "metadata": {},
   "source": [
    "## Identificação das sequências\n",
    "- Identificar o tipo de sequência (DNA, RNA, Amino ácido)\n",
    "- Validação de DNA, RNA, Amino ácido\n",
    "- Get orfs\n",
    "- Codons\n"
   ]
  },
  {
   "cell_type": "markdown",
   "metadata": {},
   "source": [
    "#### 1. Identificar o tipo da sequência"
   ]
  },
  {
   "cell_type": "code",
   "execution_count": 1,
   "metadata": {},
   "outputs": [],
   "source": [
    "## Identificação do tipo de sequência (DNA, RNA, Amino ácido)\n",
    "def seq_type(sequencia):\n",
    "    \"\"\"\n",
    "    Função que recebe uma string \"sequencia\" e vai verificar se se trata de uma sequência de DNA, RNA ou Amino ácido.\n",
    "\n",
    "    Input:\n",
    "    Variável do tipo string denominada \"sequencia\".\n",
    "\n",
    "    Output: \n",
    "    Classificação da sequência.\n",
    "    \"\"\"\n",
    "\n",
    "    sequencia = sequencia.upper().strip()\n",
    "\n",
    "    # Verifica se a sequência está vazia\n",
    "    if not sequencia:\n",
    "        return None\n",
    "\n",
    "    # Definição das condições para a identificação da sequência da variável fornecida:\n",
    "    # Verifica se \"sequencia\" contém apenas caracteres válidos de DNA\n",
    "    caracteres_dna = set(\"ACGT\")\n",
    "    if all(caracter in caracteres_dna for caracter in sequencia):\n",
    "        return \"DNA\"\n",
    "\n",
    "    # Verifica se \"sequencia\" contém apenas caracteres válidos de RNA\n",
    "    caracteres_rna = set(\"ACGU\")\n",
    "    if all(caracter in caracteres_rna for caracter in sequencia):\n",
    "        return \"RNA\"\n",
    "\n",
    "    # Verifica se \"sequencia\" contém apenas caracteres válidos de amino ácido\n",
    "    caracteres_aminoacido = set(\"ABCDEFGHIKLMNPQRSTVWYZ_\")\n",
    "    if all(caracter in caracteres_aminoacido for caracter in sequencia):\n",
    "        return \"Amino ácido\"\n",
    "\n",
    "    # Se a sequência fornecida falhar em todos os testes anteriores, retorna None\n",
    "    return None"
   ]
  },
  {
   "cell_type": "code",
   "execution_count": 2,
   "metadata": {},
   "outputs": [
    {
     "name": "stdout",
     "output_type": "stream",
     "text": [
      "A sequência fornecida é do tipo: DNA\n"
     ]
    }
   ],
   "source": [
    "# Teste da função \"seq_type()\"\n",
    "sequencia_exemplo = \"ACGTCGACAGTTA\"\n",
    "seq_type_exemplo = seq_type(sequencia_exemplo)\n",
    "\n",
    "if seq_type_exemplo is not None:\n",
    "    print(f\"A sequência fornecida é do tipo: {seq_type_exemplo}\")\n",
    "else:\n",
    "    print(\"A sequência fornecida não é reconhecida como DNA, RNA ou amino ácido.\")"
   ]
  },
  {
   "cell_type": "markdown",
   "metadata": {},
   "source": [
    "#### 2. Validação da sequência"
   ]
  },
  {
   "cell_type": "code",
   "execution_count": null,
   "metadata": {},
   "outputs": [],
   "source": [
    "def valid_dna(cadeia):\n",
    "    \"\"\"\n",
    "    cadeia: variável fornecida\n",
    "    \n",
    "    Recebe a variável string 'cadeia' e verifica se ela corresponde a uma sequência de DNA válido.\n",
    "    \"\"\"\n",
    "    \n",
    "    cadeia = cadeia.upper().strip()     # força a string 'cadeia' em maiúsculas e remove os whitespaces do seu início e fim.\n",
    "\n",
    "    for base in cadeia:                 # identifica-se cada indíce em 'cadeia' como 'base'.\n",
    "        if base not in \"ACGT\":          # programa tenta procurar se cada 'base' NÃO é uma das letras\n",
    "            return False                # retorna 'False' se pelo menos 1 dos índices não for \"A\", \"C\", \"G\", \"T\".\n",
    "\n",
    "    return True"
   ]
  },
  {
   "cell_type": "code",
   "execution_count": null,
   "metadata": {},
   "outputs": [],
   "source": []
  },
  {
   "cell_type": "markdown",
   "metadata": {},
   "source": [
    "#### 3. Contagens e frequências de bases e nucleótidos"
   ]
  },
  {
   "cell_type": "code",
   "execution_count": null,
   "metadata": {},
   "outputs": [],
   "source": [
    "## Contagem das bases de uma cadeia de DNA\n",
    "def contar_bases_dna(cadeia):\n",
    "    \"\"\"\n",
    "    cadeia: variável fornecida\n",
    "    \n",
    "    Recebe a variável string 'cadeia' e faz a contagem de cada índice se e só se:\n",
    "        a variável ter devolvido 'True' na função 'valid_dna(cadeia)'\n",
    "        as letras dos índices forem \"A\", \"C\", \"G\", \"T\"\n",
    "    \"\"\"\n",
    "    \n",
    "    A, C, G, T = 0, 0, 0, 0\n",
    "    if valid_dna(cadeia) == True:       # faz a contagem dos índices se valid_dna(cadeia) == True, mas só conta \"A\", \"C\", \"G\" e \"T\".\n",
    "        A = cadeia.count(\"A\")\n",
    "        C = cadeia.count(\"C\")\n",
    "        G = cadeia.count(\"G\")\n",
    "        T = cadeia.count(\"T\")\n",
    "\n",
    "        return A, C, G, T               # fornece a contagem final de cada base.\n",
    "\n",
    "    else:\n",
    "        return \"Contagem de bases interrompida! Variável 'cadeia' falhou a validação em valid_dna()\"   # corre se a condição em if não acontece."
   ]
  },
  {
   "cell_type": "code",
   "execution_count": 14,
   "metadata": {},
   "outputs": [],
   "source": [
    "def count_nucleotides(self):\n",
    "        \"\"\"\n",
    "        Função que a partir de uma sequência de DNA ou RNA e conta o número dos diferentes nucleótidos presentes.\n",
    "\n",
    "        Returns: \n",
    "            list: Lista com a contagem dos diferentes núcleotidos.           \n",
    "        \"\"\"\n",
    "        if Seq(self.seq).get_type() == \"DNA\":\n",
    "            A = self.seq.count(\"A\")\n",
    "            C = self.seq.count(\"C\")\n",
    "            G = self.seq.count(\"G\")\n",
    "            T = self.seq.count(\"T\") \n",
    "            return [A, C, G, T]\n",
    "        \n",
    "        elif Seq(self.seq).get_type() == \"RNA\":                    \n",
    "            A = self.seq.count(\"A\")\n",
    "            C = self.seq.count(\"C\")\n",
    "            G = self.seq.count(\"G\")\n",
    "            U = self.seq.count(\"U\") \n",
    "            return [A, C, G, U] \n",
    "        else:\n",
    "            return \"Not DNA or RNA\"\n",
    "\n",
    "def freq_nucleotides(self):\n",
    "        \"\"\"\n",
    "        Função que a partir de uma sequência de DNA ou RNA, estima a frequência dos diferentes nucleótidos presentes.\n",
    "\n",
    "        Returns:\n",
    "            list: Lista com a frequência dos diferentes nucleótidos. \n",
    "        \"\"\"\n",
    "        if Seq(self.seq).get_type() == \"DNA\":\n",
    "            A = self.seq.count(\"A\") / len(self.seq)\n",
    "            C = self.seq.count(\"C\") / len(self.seq)\n",
    "            G = self.seq.count(\"G\") / len(self.seq)\n",
    "            T = self.seq.count(\"T\") / len(self.seq)\n",
    "            return [round(A, 3), round(C, 3), round(G, 3), round(T, 3)]             \n",
    "        \n",
    "        elif Seq(self.seq).get_type() == \"RNA\":\n",
    "            A = self.seq.count(\"A\") / len(self.seq)\n",
    "            C = self.seq.count(\"C\") / len(self.seq)\n",
    "            G = self.seq.count(\"G\") / len(self.seq)\n",
    "            U = self.seq.count(\"U\") / len(self.seq)\n",
    "            return [round(A, 3), round(C, 3), round(G, 3), round(U, 3)]\n",
    "        else:\n",
    "            return \"Not DNA or RNA\""
   ]
  },
  {
   "cell_type": "markdown",
   "metadata": {},
   "source": [
    "#### 4. Complemento Inverso"
   ]
  },
  {
   "cell_type": "code",
   "execution_count": 3,
   "metadata": {},
   "outputs": [],
   "source": [
    "def comp_inv(dna):\n",
    "    \"\"\"\n",
    "    Devolve o complemento inverso de uma cadeia de DNA que corresponde à string inversa substituindo\n",
    "    A <-> T\n",
    "    C <-> G\n",
    "    \"\"\"\n",
    "    comp = \"\"                          # Define-se uma nova variável para o nosso complemento inverso\n",
    "    for c in dna.upper():\n",
    "        if c == \"A\":\n",
    "            comp = \"T\" + comp\n",
    "        elif c == \"T\":\n",
    "            comp = \"A\" + comp\n",
    "        elif c == \"G\":\n",
    "            comp = \"C\" + comp\n",
    "        elif c == \"C\":\n",
    "            comp = \"G\" + comp\n",
    "\n",
    "    return comp"
   ]
  },
  {
   "cell_type": "code",
   "execution_count": 10,
   "metadata": {},
   "outputs": [],
   "source": [
    "## Alternativamente\n",
    "def comp_inv2(dna):\n",
    "    subs = {\n",
    "        \"A\" : \"T\",\n",
    "        \"T\" : \"A\",\n",
    "        \"C\" : \"G\",\n",
    "        \"G\" : \"C\"\n",
    "    }\n",
    "    \n",
    "    res = \"\"\n",
    "    for b in dna.upper():\n",
    "        res = subs[b] + res\n",
    "    return res"
   ]
  },
  {
   "cell_type": "code",
   "execution_count": 13,
   "metadata": {},
   "outputs": [
    {
     "name": "stdout",
     "output_type": "stream",
     "text": [
      "AAGCCTCACGGT\n",
      "AAGCCTCACGGT\n"
     ]
    }
   ],
   "source": [
    "## Teste das funções comp_inv() e comp_inv2()\n",
    "print(comp_inv(\"accgtgAGGCTT\"))\n",
    "print(comp_inv2(\"accgtgAGGCTT\"))"
   ]
  }
 ],
 "metadata": {
  "kernelspec": {
   "display_name": "Python 3",
   "language": "python",
   "name": "python3"
  },
  "language_info": {
   "codemirror_mode": {
    "name": "ipython",
    "version": 3
   },
   "file_extension": ".py",
   "mimetype": "text/x-python",
   "name": "python",
   "nbconvert_exporter": "python",
   "pygments_lexer": "ipython3",
   "version": "3.11.1"
  }
 },
 "nbformat": 4,
 "nbformat_minor": 2
}
