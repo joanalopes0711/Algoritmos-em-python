{
 "cells": [
  {
   "cell_type": "markdown",
   "metadata": {},
   "source": [
    "## Identificação das sequências\n",
    "- Identificar o tipo de sequência (DNA, RNA, Amino ácido)\n",
    "- Validação de DNA, RNA, Amino ácido\n",
    "- Get orfs\n",
    "- Codons\n"
   ]
  },
  {
   "cell_type": "markdown",
   "metadata": {},
   "source": [
    "#### 1. Identificar o tipo da sequência"
   ]
  },
  {
   "cell_type": "code",
   "execution_count": 32,
   "metadata": {},
   "outputs": [],
   "source": [
    "## Identificação do tipo de sequência (DNA, RNA, Amino ácido)\n",
    "def seq_type(sequencia):\n",
    "    \"\"\"\n",
    "    Função que recebe uma string \"sequencia\" e vai verificar se se trata de uma sequência de DNA, RNA ou Amino ácido.\n",
    "\n",
    "    Input:\n",
    "    Variável do tipo string denominada \"sequencia\".\n",
    "\n",
    "    Output: \n",
    "    Classificação da sequência.\n",
    "    \"\"\"\n",
    "\n",
    "    sequencia = sequencia.upper().strip()\n",
    "\n",
    "    # Verifica se a sequência está vazia\n",
    "    if not sequencia:\n",
    "        return None\n",
    "\n",
    "    # Definição das condições para a identificação da sequência da variável fornecida:\n",
    "    # Verifica se \"sequencia\" contém apenas caracteres válidos de DNA\n",
    "    caracteres_dna = set(\"ACGT\")\n",
    "    if all(caracter in caracteres_dna for caracter in sequencia):\n",
    "        return \"DNA\"\n",
    "\n",
    "    # Verifica se \"sequencia\" contém apenas caracteres válidos de RNA\n",
    "    caracteres_rna = set(\"ACGU\")\n",
    "    if all(caracter in caracteres_rna for caracter in sequencia):\n",
    "        return \"RNA\"\n",
    "\n",
    "    # Verifica se \"sequencia\" contém apenas caracteres válidos de amino ácido\n",
    "    caracteres_aminoacido = set(\"ABCDEFGHIKLMNPQRSTVWYZ_\")\n",
    "    if all(caracter in caracteres_aminoacido for caracter in sequencia):\n",
    "        return \"Amino ácido\"\n",
    "\n",
    "    # Se a sequência fornecida falhar em todos os testes anteriores, retorna None\n",
    "    return None"
   ]
  },
  {
   "cell_type": "code",
   "execution_count": 33,
   "metadata": {},
   "outputs": [
    {
     "name": "stdout",
     "output_type": "stream",
     "text": [
      "A sequência fornecida é do tipo: DNA\n"
     ]
    }
   ],
   "source": [
    "# Teste da função \"seq_type()\"\n",
    "sequencia_exemplo = \"ACGTCGACAGTTA\"\n",
    "seq_type_exemplo = seq_type(sequencia_exemplo)\n",
    "\n",
    "if seq_type_exemplo is not None:\n",
    "    print(f\"A sequência fornecida é do tipo: {seq_type_exemplo}\")\n",
    "else:\n",
    "    print(\"A sequência fornecida não é reconhecida como DNA, RNA ou amino ácido.\")"
   ]
  },
  {
   "cell_type": "markdown",
   "metadata": {},
   "source": [
    "#### 2. Validação da sequência"
   ]
  },
  {
   "cell_type": "code",
   "execution_count": 67,
   "metadata": {},
   "outputs": [],
   "source": [
    "def valid_dna(cadeia):\n",
    "    \"\"\"\n",
    "    Verifica cada um dos caracteres (bases) na variável 'cadeia' e tenta NÃO encontrar os caracteres \"ACGT\" (bases de uma sequência de DNA).\n",
    "\n",
    "    Input:\n",
    "    Variável string denominaada 'cadeia'.\n",
    "    \n",
    "    Output:\n",
    "    Retorna True se for válida, ou seja se não encontrar os caracteres definidos, False caso encontre.\n",
    "    \"\"\"\n",
    "    cadeia = cadeia.upper().strip()     # força a string 'cadeia' em maiúsculas e remove os whitespaces do seu início e fim.\n",
    "\n",
    "    for base in cadeia:                 # identifica-se cada indíce em 'cadeia' como 'base'.\n",
    "        if base not in \"ACGT\":          # programa tenta procurar se cada 'base' NÃO é uma das letras\n",
    "            return False                # retorna 'False' se pelo menos 1 dos índices não for \"A\", \"C\", \"G\", \"T\".\n",
    "\n",
    "    return True\n",
    "\n",
    "def valid_rna(cadeia):\n",
    "    \"\"\"\n",
    "    Verifica cada um dos caracteres (bases) na variável 'cadeia' e tenta NÃO encontrar os caracteres \"ACGU\" (bases de uma sequência de RNA).\n",
    "\n",
    "    Input:\n",
    "    Variável string denominada 'cadeia'.\n",
    "    \n",
    "    Output:\n",
    "    Retorna True se for válida, ou seja se não encontrar os caracteres definidos, False caso encontre.\n",
    "    \"\"\"\n",
    "    cadeia = cadeia.upper().strip()     # força a string 'cadeia' em maiúsculas e remove os whitespaces do seu início e fim.\n",
    "\n",
    "    for base in cadeia:                 # identifica-se cada indíce em 'cadeia' como 'base'.\n",
    "        if base not in \"ACGU\":          # programa tenta procurar se cada 'base' NÃO é uma das letras\n",
    "            return False                # retorna 'False' se pelo menos 1 dos índices não for \"A\", \"C\", \"G\", \"U\".\n",
    "\n",
    "    return True"
   ]
  },
  {
   "cell_type": "code",
   "execution_count": null,
   "metadata": {},
   "outputs": [],
   "source": []
  },
  {
   "cell_type": "markdown",
   "metadata": {},
   "source": [
    "#### 3. Contagens e frequências de bases e nucleótidos"
   ]
  },
  {
   "cell_type": "code",
   "execution_count": 68,
   "metadata": {},
   "outputs": [],
   "source": [
    "## Contagem das bases de uma cadeia de DNA\n",
    "def contar_bases_dna(cadeia):\n",
    "    \"\"\"\n",
    "    cadeia: variável fornecida\n",
    "    \n",
    "    Recebe a variável string 'cadeia' e faz a contagem de cada índice se e só se:\n",
    "        - a variável ter devolvido 'True' na função 'valid_dna(cadeia)'\n",
    "        - as letras dos índices forem \"A\", \"C\", \"G\", \"T\"\n",
    "    \"\"\"\n",
    "    \n",
    "    A, C, G, T = 0, 0, 0, 0\n",
    "    if valid_dna(cadeia) == True:       # faz a contagem dos índices se valid_dna(cadeia) == True, mas só conta \"A\", \"C\", \"G\" e \"T\".\n",
    "        A = cadeia.count(\"A\")\n",
    "        C = cadeia.count(\"C\")\n",
    "        G = cadeia.count(\"G\")\n",
    "        T = cadeia.count(\"T\")\n",
    "\n",
    "        return A, C, G, T               # fornece a contagem final de cada base.\n",
    "\n",
    "    else:\n",
    "        return \"Contagem de bases interrompida! Variável 'cadeia' falhou a validação em valid_dna()\"   # corre se a condição em if não acontece.\n",
    "    \n",
    "## Contagem de bases de uma cadeia de RNA\n",
    "def contar_bases_rna(cadeia):\n",
    "    \"\"\"\n",
    "    cadeia: variável fornecida\n",
    "    \n",
    "    Recebe a variável string 'cadeia' e faz a contagem de cada índice se e só se:\n",
    "        - a variável ter devolvido 'True' na função 'valid_rna(cadeia)'\n",
    "        - as letras dos índices forem \"A\", \"C\", \"G\", \"U\"\n",
    "    \"\"\"\n",
    "    \n",
    "    A, C, G, U = 0, 0, 0, 0\n",
    "    if valid_rna(cadeia):  # faz a contagem dos índices se valid_rna(cadeia) == True, mas só conta \"A\", \"C\", \"G\" e \"U\".\n",
    "        A = cadeia.count(\"A\")\n",
    "        C = cadeia.count(\"C\")\n",
    "        G = cadeia.count(\"G\")\n",
    "        U = cadeia.count(\"U\")\n",
    "\n",
    "        return A, C, G, U  # fornece a contagem final de cada base.\n",
    "\n",
    "    else:\n",
    "        return \"Contagem de bases interrompida! Variável 'cadeia' falhou a validação em valid_rna()\"  # corre se a condição em if não acontece."
   ]
  },
  {
   "cell_type": "code",
   "execution_count": 57,
   "metadata": {},
   "outputs": [],
   "source": [
    "from Bio.Seq import Seq\n",
    "\n",
    "class MySeq:\n",
    "    \"\"\" \n",
    "    Classe usada para manipular e transformar os diferentes tipos de sequências através de diferentes processos.\n",
    "    \"\"\"\n",
    "    def __init__(self, seq):\n",
    "        \"\"\"\n",
    "        Construtor da classe MySeq.\n",
    "\n",
    "        Args:\n",
    "        seq (str): Sequência biológica.\n",
    "        \"\"\"\n",
    "        self.seq = str(seq.upper())\n",
    "\n",
    "    def __len__(self): \n",
    "        \"\"\"\n",
    "        Função que permite implementar a função len().\n",
    "\n",
    "        Returns:\n",
    "        int: Tamanho da sequência.\n",
    "        \"\"\"   \n",
    "        return len(self.seq)\n",
    "    \n",
    "    def __str__(self):\n",
    "        \"\"\"\n",
    "        Função que permite representar a sequência como uma string.\n",
    "\n",
    "        Returns:\n",
    "        str: Representação da sequência.      \n",
    "        \"\"\"       \n",
    "        return self.seq\n",
    "\n",
    "    def __getitem__(self, n):\n",
    "        \"\"\"\n",
    "        Função que permite aplicar a indexação na classe.\n",
    "\n",
    "        Args:\n",
    "        n (int): Index\n",
    "\n",
    "        Returns:\n",
    "        str: Base ou aminoácido correspondente ao index.\n",
    "        \"\"\"\n",
    "        return self.seq[n]\n",
    "    \n",
    "    def __getslice__(self, i, j):\n",
    "        \"\"\"\n",
    "        Função que permite aplicar a indexação na classe.\n",
    "\n",
    "        Args:\n",
    "        i (int): index start\n",
    "        j (int): index final\n",
    "\n",
    "        Returns:\n",
    "        str: Sequência, base ou aminoácido correspondente ao index.\n",
    "        \"\"\"\n",
    "        return self.seq[i:j]\n",
    "\n",
    "    def get_type(self):\n",
    "        \"\"\"\n",
    "        Função que a partir de uma sequência, classifica-a em DNA, RNA ou AMINO ACID SEQUENCE.\n",
    "\n",
    "        Returns:\n",
    "        str: Classificação da sequência.\n",
    "        \"\"\"\n",
    "        if len([c for c in self.seq if c not in \"ACGT\"]) == 0:\n",
    "            return \"DNA\"\n",
    "\n",
    "        elif len([c for c in self.seq if c not in \"ACGU\"]) == 0:\n",
    "            return \"RNA\"\n",
    "\n",
    "        elif len([c for c in self.seq if c not in \"ABCDEFGHIKLMNPQRSTVWYZ_\"]) == 0:\n",
    "            return \"AMINO ACID SEQUENCE\"\n",
    "        \n",
    "        else:\n",
    "            return \"Not valid\"\n",
    "\n",
    "    def count_nucleotides(self):\n",
    "        \"\"\"\n",
    "        Função que a partir de uma sequência de DNA ou RNA e conta o número dos diferentes nucleótidos presentes.\n",
    "\n",
    "        Output: \n",
    "        list: Lista com a contagem dos diferentes núcleotidos.           \n",
    "        \"\"\"\n",
    "        if self.get_type() == \"DNA\":\n",
    "            A = self.seq.count(\"A\")\n",
    "            C = self.seq.count(\"C\")\n",
    "            G = self.seq.count(\"G\")\n",
    "            T = self.seq.count(\"T\") \n",
    "            return [A, C, G, T]\n",
    "        \n",
    "        elif self.get_type() == \"RNA\":                    \n",
    "            A = self.seq.count(\"A\")\n",
    "            C = self.seq.count(\"C\")\n",
    "            G = self.seq.count(\"G\")\n",
    "            U = self.seq.count(\"U\") \n",
    "            return [A, C, G, U] \n",
    "        else:\n",
    "            return \"Not DNA or RNA\"\n",
    "\n",
    "    def freq_nucleotides(self):\n",
    "        \"\"\"\n",
    "        Função que a partir de uma sequência de DNA ou RNA, estima a frequência dos diferentes nucleótidos presentes.\n",
    "\n",
    "        Output:\n",
    "        list: Lista com a frequência dos diferentes nucleótidos. \n",
    "        \"\"\"\n",
    "        if self.get_type() == \"DNA\":\n",
    "            A = self.seq.count(\"A\") / len(self.seq)\n",
    "            C = self.seq.count(\"C\") / len(self.seq)\n",
    "            G = self.seq.count(\"G\") / len(self.seq)\n",
    "            T = self.seq.count(\"T\") / len(self.seq)\n",
    "            return [round(A, 3), round(C, 3), round(G, 3), round(T, 3)]             \n",
    "        \n",
    "        elif self.get_type() == \"RNA\":\n",
    "            A = self.seq.count(\"A\") / len(self.seq)\n",
    "            C = self.seq.count(\"C\") / len(self.seq)\n",
    "            G = self.seq.count(\"G\") / len(self.seq)\n",
    "            U = self.seq.count(\"U\") / len(self.seq)\n",
    "            return [round(A, 3), round(C, 3), round(G, 3), round(U, 3)]\n",
    "        else:\n",
    "            return \"Not DNA or RNA\""
   ]
  },
  {
   "cell_type": "code",
   "execution_count": 66,
   "metadata": {},
   "outputs": [
    {
     "name": "stdout",
     "output_type": "stream",
     "text": [
      "Contagem de Nucleotídeos: [3, 4, 4, 3]\n",
      "Frequência de Nucleotídeos: [0.214, 0.286, 0.286, 0.214]\n",
      "Percentagem de Nucleotídeos: [21.4, 28.599999999999998, 28.599999999999998, 21.4]\n",
      "Soma dos valores da Frequência de Nucleotídeos: 1.0\n"
     ]
    }
   ],
   "source": [
    "## Teste de count_nucleotides() e freq_nucleotides()\n",
    "sequencia = MySeq(\"AAaCGGTGGTTCCC\")\n",
    "print(\"Contagem de Nucleotídeos:\", sequencia.count_nucleotides())\n",
    "print(\"Frequência de Nucleotídeos:\", sequencia.freq_nucleotides())\n",
    "\n",
    "# Multiplicar os valores por 100\n",
    "print(\"Percentagem de Nucleotídeos:\", [value * 100 for value in sequencia.freq_nucleotides()])\n",
    "\n",
    "# Soma dos valores da lista\n",
    "soma_freq_nucleotides = sum(sequencia.freq_nucleotides())\n",
    "print(\"Soma dos valores da Frequência de Nucleotídeos:\", soma_freq_nucleotides)\n"
   ]
  },
  {
   "cell_type": "markdown",
   "metadata": {},
   "source": [
    "#### 4. Complemento Inverso"
   ]
  },
  {
   "cell_type": "code",
   "execution_count": 3,
   "metadata": {},
   "outputs": [],
   "source": [
    "## Função que elabora o complemento inverso\n",
    "def comp_inv(dna):\n",
    "    \"\"\"\n",
    "    Devolve o complemento inverso de uma cadeia de DNA que corresponde à string inversa substituindo\n",
    "    A <-> T\n",
    "    C <-> G\n",
    "    \"\"\"\n",
    "    comp = \"\"                          # Define-se uma nova variável para o nosso complemento inverso\n",
    "    for c in dna.upper():\n",
    "        if c == \"A\":\n",
    "            comp = \"T\" + comp\n",
    "        elif c == \"T\":\n",
    "            comp = \"A\" + comp\n",
    "        elif c == \"G\":\n",
    "            comp = \"C\" + comp\n",
    "        elif c == \"C\":\n",
    "            comp = \"G\" + comp\n",
    "\n",
    "    return comp"
   ]
  },
  {
   "cell_type": "code",
   "execution_count": 10,
   "metadata": {},
   "outputs": [],
   "source": [
    "## Alternativa da função comp_inv()\n",
    "def comp_inv2(dna):\n",
    "    subs = {\n",
    "        \"A\" : \"T\",\n",
    "        \"T\" : \"A\",\n",
    "        \"C\" : \"G\",\n",
    "        \"G\" : \"C\"\n",
    "    }\n",
    "    \n",
    "    res = \"\"\n",
    "    for b in dna.upper():\n",
    "        res = subs[b] + res\n",
    "    return res"
   ]
  },
  {
   "cell_type": "code",
   "execution_count": 13,
   "metadata": {},
   "outputs": [
    {
     "name": "stdout",
     "output_type": "stream",
     "text": [
      "AAGCCTCACGGT\n",
      "AAGCCTCACGGT\n"
     ]
    }
   ],
   "source": [
    "## Teste das funções comp_inv() e comp_inv2()\n",
    "print(comp_inv(\"accgtgAGGCTT\"))\n",
    "print(comp_inv2(\"accgtgAGGCTT\"))"
   ]
  },
  {
   "cell_type": "markdown",
   "metadata": {},
   "source": [
    "#### 5. Codons"
   ]
  },
  {
   "cell_type": "code",
   "execution_count": 17,
   "metadata": {},
   "outputs": [],
   "source": [
    "## Função que separa bases de uma sequência de DNA de 3 em 3 (codões) e devolve a posição da primeira base de cada codão\n",
    "def DNA2codons_pos(dna : str) -> list([str]):\n",
    "    \"\"\"\n",
    "    Recebe uma string de DNA e devolve uma lista de codões (todos os 3 caracteres).\n",
    "\n",
    "    Input:\n",
    "    Variável string 'dna' de uma sequência de DNA.\n",
    "\n",
    "    Output: \n",
    "    Posições da primeira base de cada codão\n",
    "    \"\"\"\n",
    "    res = []\n",
    "    for P in range(0, len(dna), 3):\n",
    "        res.append(P)\n",
    "    return res"
   ]
  },
  {
   "cell_type": "code",
   "execution_count": 18,
   "metadata": {},
   "outputs": [
    {
     "data": {
      "text/plain": [
       "[0, 3, 6, 9]"
      ]
     },
     "execution_count": 18,
     "metadata": {},
     "output_type": "execute_result"
    }
   ],
   "source": [
    "## Teste de DNA2codons_pos()\n",
    "DNA2codons_pos(\"ATCGGTTGAGT\")   # Vai fazer print à posição do início de cada codão: A T C | G G T | T G A | G T\n",
    "                                                                        # índices:   0 1 2   3 4 5   6 7 8   9 10"
   ]
  }
 ],
 "metadata": {
  "kernelspec": {
   "display_name": "Python 3",
   "language": "python",
   "name": "python3"
  },
  "language_info": {
   "codemirror_mode": {
    "name": "ipython",
    "version": 3
   },
   "file_extension": ".py",
   "mimetype": "text/x-python",
   "name": "python",
   "nbconvert_exporter": "python",
   "pygments_lexer": "ipython3",
   "version": "3.11.1"
  }
 },
 "nbformat": 4,
 "nbformat_minor": 2
}
